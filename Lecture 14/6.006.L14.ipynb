{
 "cells": [
  {
   "cell_type": "code",
   "execution_count": null,
   "metadata": {},
   "outputs": [],
   "source": [
    "def create_adjlist(v: int, nc: int, directed=False) -> dict:\n",
    "    '''\n",
    "    Generate an adjacency list without any self-cycles\n",
    "    For more complex lists, increase v and nc\n",
    "    The keys are upper-case English characters\n",
    "    directed=True will create a directed graph, otherwise it will be undirected\n",
    "    '''\n",
    "    assert v>nc, \"Number of neighbors has to be less than number of vertices\"\n",
    "    vertex_count=v\n",
    "    vertices=random.sample(range(65,90), vertex_count)\n",
    "    vertices=[chr(vertex) for vertex in vertices]\n",
    "    adjList={vertex:set() for vertex in vertices}\n",
    "    for vertex in vertices:\n",
    "        vertex_set=set(vertices)\n",
    "        vertex_set.remove(vertex)\n",
    "        neighbors=random.sample(vertex_set, random.randint(0,nc))\n",
    "        for neighbor in neighbors:\n",
    "            if not directed:\n",
    "                adjList[neighbor].add(vertex)\n",
    "            adjList[vertex].add(neighbor)            \n",
    "    return adjList"
   ]
  },
  {
   "cell_type": "markdown",
   "metadata": {},
   "source": [
    "### Depth-First Search\n",
    "\n",
    "- Breadcrumbs at every stage\n",
    "- Recursively explore graph, backtrack as necessary"
   ]
  },
  {
   "cell_type": "code",
   "execution_count": null,
   "metadata": {},
   "outputs": [],
   "source": [
    "def DFS_visit(startNode, adjList: dict, conn_comp: list, order: list):\n",
    "    for v in adjList[startNode]:\n",
    "        if v not in parent:\n",
    "            parent[v]=startNode\n",
    "            conn_comp.append(v)\n",
    "            DFS_visit(v, adjList, conn_comp, order)\n",
    "            order.append(v)"
   ]
  },
  {
   "cell_type": "code",
   "execution_count": null,
   "metadata": {},
   "outputs": [],
   "source": [
    "def DFS(adjList):\n",
    "    order=[]\n",
    "    for vertex in adjList:\n",
    "        conn_comp=[]\n",
    "        if vertex not in parent:\n",
    "            parent[vertex]=None\n",
    "            DFS_visit(vertex, adjList, conn_comp, order)\n",
    "            order.append(vertex)\n",
    "        print(\"Connected components of {}: \".format(vertex), end=\"\")\n",
    "        if conn_comp:   \n",
    "            print(\"{}\".format(conn_comp))\n",
    "        else:\n",
    "            print(\"None\")\n",
    "        \n",
    "    return order"
   ]
  },
  {
   "cell_type": "code",
   "execution_count": null,
   "metadata": {},
   "outputs": [],
   "source": [
    "import random\n",
    "# adjList=create_adjlist(8,4, directed=True)\n",
    "\n",
    "#Below is the example from the class notes. \n",
    "#Comment it and run the above line to generate a random graph\n",
    "adjList={'A':{'B','D'},'B': {'E'},'C': {'E','F'},'D':{'B'},'E':{'D'},'F':{'F','G'}, 'G':{}}\n",
    "print(adjList)"
   ]
  },
  {
   "cell_type": "code",
   "execution_count": null,
   "metadata": {},
   "outputs": [],
   "source": [
    "parent={}\n",
    "order=DFS(adjList)\n",
    "print(order)"
   ]
  },
  {
   "cell_type": "markdown",
   "metadata": {},
   "source": [
    "#### Edge classification\n",
    "\n",
    "- **Tree edge**: Visit a new vertex via this edge\n",
    "- **Forward edges**: Goes from vertex to descendant in the tree\n",
    "- **Backward edges**: Goes from vertex to ancestor in the tree\n",
    "  - Maintain which vertex is still on the recursion stack\n",
    "  - If destination of current edge is still on the stack, then it is a backward edge\n",
    "- **Cross edges**: Edge between two non-ancestor related subtrees/nodes"
   ]
  },
  {
   "cell_type": "markdown",
   "metadata": {},
   "source": [
    "#### Cycle detection:\n",
    "A cycle exists in a graph **iff** there is a back edge. Having a back edge is sufficient proof of the existence of a cycle"
   ]
  },
  {
   "cell_type": "markdown",
   "metadata": {},
   "source": [
    "### Topological Sort\n",
    "\n",
    "Items that occur first have to be finished before any of the next items"
   ]
  },
  {
   "cell_type": "markdown",
   "metadata": {},
   "source": [
    "#### Job scheduling\n",
    "Given directed acyclic graph (**DAG**), order vertices so that all edges point from lower order to higher order"
   ]
  },
  {
   "cell_type": "code",
   "execution_count": null,
   "metadata": {},
   "outputs": [],
   "source": [
    "#Example from the notes for easy reference\n",
    "vertices=[c for c in \"ABCDEFGHI\"]\n",
    "edges=[{'B','H'},{'C'},{'F'},{'C','E'},{'F'},{},{'H'},{},{}]\n",
    "DAG={v:e for v,e in zip(vertices, edges)}\n",
    "print(DAG)"
   ]
  },
  {
   "cell_type": "code",
   "execution_count": null,
   "metadata": {},
   "outputs": [],
   "source": [
    "def topological_sort(adjList):\n",
    "    order=DFS(DAG)\n",
    "    order.reverse()\n",
    "    print(\"Topological sorted order: {}\".format(order))"
   ]
  },
  {
   "cell_type": "code",
   "execution_count": null,
   "metadata": {},
   "outputs": [],
   "source": [
    "parent={}\n",
    "topological_sort(DAG)"
   ]
  },
  {
   "cell_type": "code",
   "execution_count": null,
   "metadata": {},
   "outputs": [],
   "source": []
  }
 ],
 "metadata": {
  "kernelspec": {
   "display_name": "Python 3",
   "language": "python",
   "name": "python3"
  },
  "language_info": {
   "codemirror_mode": {
    "name": "ipython",
    "version": 3
   },
   "file_extension": ".py",
   "mimetype": "text/x-python",
   "name": "python",
   "nbconvert_exporter": "python",
   "pygments_lexer": "ipython3",
   "version": "3.7.6"
  }
 },
 "nbformat": 4,
 "nbformat_minor": 4
}

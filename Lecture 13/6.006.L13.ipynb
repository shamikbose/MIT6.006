{
 "cells": [
  {
   "cell_type": "markdown",
   "metadata": {},
   "source": [
    "### Graph Search (Continued in Lecture 14)\n",
    "- \"Explore\" a graph\n",
    "- Graph $G=(V,E)$\n",
    "  - $V$ : Set of vertices\n",
    "  - $E$ : Set of edges\n",
    "    - $e$ = ${v,w}$ **unordered pairs**, making an **undirected graph**\n",
    "    - $e$ = $(v,w)$ **ordered pairs**, making a **directed graph**\n",
    "- Represented as adjacency lists\n",
    "  - array *adj* of length $|V|$\n",
    "  - *adj*[v] for v $\\epsilon$ V: neighbors of v    \n",
    "- Diameter of the graph: Longest path from solved state to leaf"
   ]
  },
  {
   "cell_type": "markdown",
   "metadata": {},
   "source": [
    "#### Breadth First Search\n",
    "- Visit all nodes reachable from given state s $\\epsilon$ V\n",
    "- $O(V+E)$ time\n",
    "- Look at nodes reachable with *i* moves where i={0,1,...diameter of graph}\n",
    "- Avoid revisiting vertices"
   ]
  },
  {
   "cell_type": "code",
   "execution_count": 87,
   "metadata": {},
   "outputs": [],
   "source": [
    "def create_adjlist(v: int, nc: int) -> dict:\n",
    "    '''\n",
    "    Generate an adjacency list without any self-cycles\n",
    "    For more complex lists, increase v and nc\n",
    "    '''\n",
    "    assert v>nc, \"Number of neighbors has to be less than number of vertices\"\n",
    "    vertex_count=v\n",
    "    vertices=random.sample(range(65,90), vertex_count)\n",
    "    vertices=[chr(vertex) for vertex in vertices]\n",
    "    adjList={vertex:set() for vertex in vertices}\n",
    "    for vertex in vertices:\n",
    "        vertex_set=set(vertices)\n",
    "        vertex_set.remove(vertex)\n",
    "        neighbors=random.sample(vertex_set, random.randint(1,nc))\n",
    "        for neighbor in neighbors:\n",
    "            adjList[neighbor].add(vertex)\n",
    "            adjList[vertex].add(neighbor)            \n",
    "    return adjList"
   ]
  },
  {
   "cell_type": "code",
   "execution_count": 88,
   "metadata": {},
   "outputs": [],
   "source": [
    "def BFS(startNode, adjList: dict):\n",
    "    # Intializations of current level and parents\n",
    "    # level contains the levels of nodes from the startNode\n",
    "    # parent contains the parent of every node\n",
    "    level={startNode: 0}\n",
    "    parent={startNode: None}\n",
    "    i=1\n",
    "    frontier=[startNode]\n",
    "    while frontier:\n",
    "        neighbors=[]\n",
    "        for u in frontier:\n",
    "            for v in adjList[u]:\n",
    "                if v not in level:\n",
    "                    level[v]=i\n",
    "                    parent[v]=u\n",
    "                    neighbors.append(v)\n",
    "        if neighbors:\n",
    "            print(\"With {} moves:\".format(i), neighbors)\n",
    "        frontier=neighbors\n",
    "        i+=1\n",
    "    # Traversing the parent of every node to the startNode guarantees the \n",
    "    # shortest path\n",
    "    print(\"Shortest paths to {}: \".format(startNode))\n",
    "    for par in parent:\n",
    "        if par==startNode:\n",
    "            continue\n",
    "        else:\n",
    "            temp=par\n",
    "            while(True):\n",
    "                print(temp,\"-->\", end=\"\")\n",
    "                temp=parent[temp]\n",
    "                if temp==startNode:\n",
    "                    print(temp)\n",
    "                    break\n",
    "        "
   ]
  },
  {
   "cell_type": "markdown",
   "metadata": {},
   "source": [
    "#### Testing code"
   ]
  },
  {
   "cell_type": "code",
   "execution_count": 92,
   "metadata": {},
   "outputs": [
    {
     "name": "stdout",
     "output_type": "stream",
     "text": [
      "{'H': {'G', 'O', 'A'}, 'U': {'Y', 'O'}, 'G': {'K', 'H', 'N', 'Y'}, 'Y': {'F', 'U', 'K', 'A', 'G'}, 'F': {'K', 'Q', 'Y'}, 'Q': {'N', 'F', 'A'}, 'N': {'Q', 'G'}, 'K': {'G', 'F', 'Y'}, 'A': {'Q', 'H', 'Y'}, 'O': {'H', 'U'}}\n",
      "Starting node:Q\n",
      "With 1 moves: ['N', 'F', 'A']\n",
      "With 2 moves: ['G', 'K', 'Y', 'H']\n",
      "With 3 moves: ['U', 'O']\n",
      "Shortest paths to Q: \n",
      "N -->Q\n",
      "F -->Q\n",
      "A -->Q\n",
      "G -->N -->Q\n",
      "K -->F -->Q\n",
      "Y -->F -->Q\n",
      "H -->A -->Q\n",
      "U -->Y -->F -->Q\n",
      "O -->H -->A -->Q\n"
     ]
    }
   ],
   "source": [
    "import random\n",
    "vertex_count, max_neighbor=10,3\n",
    "adjList=create_adjlist(vertex_count, max_neighbor)\n",
    "print(adjList)\n",
    "starting_node=random.choice(list(adjList.keys()))\n",
    "print(\"Starting node:{}\".format(starting_node))\n",
    "BFS(starting_node, adjList)"
   ]
  },
  {
   "cell_type": "markdown",
   "metadata": {},
   "source": [
    "**Pocket Cube: 2x2x2 Rubik's cube**\n",
    "- Configuration graph\n",
    "  - vertex for each possible state of the cube\n",
    "  - edge for each possible move\n",
    "  - undirected graph\n",
    "- Solved state\n",
    "  "
   ]
  }
 ],
 "metadata": {
  "kernelspec": {
   "display_name": "Python 3",
   "language": "python",
   "name": "python3"
  },
  "language_info": {
   "codemirror_mode": {
    "name": "ipython",
    "version": 3
   },
   "file_extension": ".py",
   "mimetype": "text/x-python",
   "name": "python",
   "nbconvert_exporter": "python",
   "pygments_lexer": "ipython3",
   "version": "3.7.6"
  }
 },
 "nbformat": 4,
 "nbformat_minor": 4
}

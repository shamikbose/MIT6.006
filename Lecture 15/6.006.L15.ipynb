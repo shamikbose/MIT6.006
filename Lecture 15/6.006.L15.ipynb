{
 "cells": [
  {
   "cell_type": "markdown",
   "metadata": {},
   "source": [
    "### Notation\n",
    "\n",
    "A weighted graph $G(V,E,W)$ is defined by the following:\n",
    "- $V$: a set of vertices\n",
    "- $E$: a set of edges\n",
    "- $W$: a weight function that maps weights (real valued numbers) to edges\n",
    "\n",
    "- A path $P$ exists from $V_0 \\rightarrow V_k$ \n",
    "- ($V_0$) is a path from $V_0$ to $V_0$ of weight 0\n",
    "\n",
    "Shortest path weight from $u$ to $v$ is defined as \n",
    "$$ \\delta (u,v) = min(min(w(p) \\forall p, u\\rightarrow v, \\infty)) $$\n",
    "\n",
    "### Data structures\n",
    "\n",
    "- $d(v)$: Current best cost of getting to vertex v\n",
    "- $\\pi (v)$: Current best predecessor of vertex v"
   ]
  },
  {
   "cell_type": "markdown",
   "metadata": {},
   "source": [
    "### General Structure of single-source shortest path\n",
    "\n",
    "For $u \\in V$, \n",
    "\n",
    "- d$[v]\\leftarrow \\infty$\n",
    "- $ \\pi[u] \\leftarrow NIL$, where $\\pi[u]$ is the predecessor of vertex $u$\n",
    "\n",
    "$d[S] \\leftarrow 0$, where $s$ is the source\n",
    "\n",
    "Repeat:\n",
    "1. Select edge $(u,v)$\n",
    "2. \"Relax\" edge $(u,v)$\n",
    "  - if $d[v]>d[u]+w(u,v)$,\n",
    "    - $d[v] = d[u] + w(u,v)$\n",
    "    - $\\pi[v] \\leftarrow u$\n",
    "3. If all edges $v\\in V$ are \"relaxed\", stop. Else, go to step 1.\n",
    "\n",
    "**Note**: This does NOT account for negative edges"
   ]
  },
  {
   "cell_type": "markdown",
   "metadata": {},
   "source": [
    "### Optimal substructure\n",
    "\n",
    "\"Subpaths of a shortest path are also shortest paths\""
   ]
  },
  {
   "cell_type": "markdown",
   "metadata": {},
   "source": [
    "#### Bellman-Ford \n",
    "\n",
    "To deal with negative edge values in a graph, the Bellman-Ford algorithm must be able to detect negative cycles in a graph."
   ]
  },
  {
   "cell_type": "code",
   "execution_count": null,
   "metadata": {},
   "outputs": [],
   "source": []
  }
 ],
 "metadata": {
  "kernelspec": {
   "display_name": "Python 3",
   "language": "python",
   "name": "python3"
  },
  "language_info": {
   "codemirror_mode": {
    "name": "ipython",
    "version": 3
   },
   "file_extension": ".py",
   "mimetype": "text/x-python",
   "name": "python",
   "nbconvert_exporter": "python",
   "pygments_lexer": "ipython3",
   "version": "3.7.6"
  }
 },
 "nbformat": 4,
 "nbformat_minor": 4
}

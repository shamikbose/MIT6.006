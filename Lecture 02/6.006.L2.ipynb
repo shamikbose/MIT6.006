{
 "cells": [
  {
   "cell_type": "markdown",
   "metadata": {},
   "source": [
    "## Lecture 2: Models of Computation\n",
    "\n",
    "Lecture by Erik Demaine\n",
    "\n",
    "Video link here: [https://www.youtube.com/watch?v=Zc54gFhdpLA&list=PLUl4u3cNGP61Oq3tWYp6V_F-5jb5L2iHb&index=2](https://www.youtube.com/watch?v=Zc54gFhdpLA&list=PLUl4u3cNGP61Oq3tWYp6V_F-5jb5L2iHb&index=2)"
   ]
  },
  {
   "cell_type": "markdown",
   "metadata": {},
   "source": [
    "### Problem statement: \n",
    "Given two documents, **D1** and **D2**, find the distance between them \n",
    "The distance **d(D1,D2)** can be defined in a number of ways, but we use the following definition:\n",
    "* For a word 'w' in document D, D[w] is defined as the number of occurences of 'w' in D\n",
    "* We create a vector for both documents D1 and D2 in this way\n",
    "* Given both vectors, we compute the distance **d(D1,D2)** as the following steps:\n",
    "  - d'(D1,D2): Compute the **inner product** of these vectors\n",
    "      - ``d'(D1,D2) = sum(D1[w]*D2[w] for all w)``\n",
    "      - This works well, but fails when the documents are very long. We can normalize this by dividing it by the lengths of the vectors\n",
    "  - ``d''(D1,D2) = d'(D1,D2)/(|D1| * |D2|)``\n",
    "      - |D| is the length of document D in words\n",
    "      - This is also the cosine of the angle between the two vectors\n",
    "      - If we take the arccos value of d''(D1,D2), we get the angle between the two vector\n",
    "  - ``d(D1,D2) = arccos(d''(D1,D2))``"
   ]
  },
  {
   "cell_type": "markdown",
   "metadata": {},
   "source": [
    "### Steps:\n",
    "Calculating this requires broadly the following steps:\n",
    "1. **Split document into words** - This can be done in a number of ways. The below list is not exhasutive\n",
    "    1. Go through the document, anytime you see a non alphanumeric character, start a new word\n",
    "    2. Use regex (can run in exponential time, so be very wary)\n",
    "    3. Use 'split'\n",
    "2. **Find word frequencies** - Couple of ways to do this:\n",
    "    1. Sort the words, add to count\n",
    "    2. Go through words linearly, add to count dictionary\n",
    "3. Compute distance as above"
   ]
  },
  {
   "cell_type": "code",
   "execution_count": 61,
   "metadata": {},
   "outputs": [],
   "source": [
    "import os, glob\n",
    "import copy, math\n",
    "doc_dir=\"Sample Documents/\"\n",
    "doc_list=os.listdir(doc_dir)"
   ]
  },
  {
   "cell_type": "markdown",
   "metadata": {},
   "source": [
    "#### Split document into words"
   ]
  },
  {
   "cell_type": "code",
   "execution_count": 101,
   "metadata": {},
   "outputs": [],
   "source": [
    "def splitIntoWords(file_contents: str) -> list:\n",
    "    word_list=[]\n",
    "    curr_word=[]\n",
    "    for c in file_contents:\n",
    "        ord_c=ord(c)\n",
    "        if 65<=ord_c<=90 or 97<=ord_c<=122 or ord_c==39 or ord_c==44:\n",
    "            if ord_c==44 or ord_c==39:\n",
    "                continue\n",
    "            curr_word.append(c)\n",
    "        else:\n",
    "            if curr_word:\n",
    "                word_list.append(\"\".join(curr_word).lower())\n",
    "                curr_word=[]\n",
    "            continue\n",
    "    #remember to append the last word\n",
    "    word_list.append(\"\".join(curr_word).lower())\n",
    "    return word_list"
   ]
  },
  {
   "cell_type": "code",
   "execution_count": 63,
   "metadata": {},
   "outputs": [],
   "source": [
    "assert len(doc_list)==2, \"Invalid number of documents. Select any two\"\n",
    "for i, doc in enumerate(doc_list):\n",
    "    if i==0:\n",
    "        D1=splitIntoWords(open(doc_dir+doc,\"r\").read())\n",
    "    else:\n",
    "        D2=splitIntoWords(open(doc_dir+doc,\"r\").read())"
   ]
  },
  {
   "cell_type": "markdown",
   "metadata": {},
   "source": [
    "#### Compute word count"
   ]
  },
  {
   "cell_type": "code",
   "execution_count": 102,
   "metadata": {},
   "outputs": [],
   "source": [
    "def computeWordCount(word_list: list)-> dict:\n",
    "    '''\n",
    "    This functions computes word counts by checking to see if the word is in the count dictionary\n",
    "    If it is, then it increments that count by 1\n",
    "    Else, it sets the count to 1\n",
    "    '''\n",
    "    word_count={}\n",
    "    for word in word_list:\n",
    "        if word in word_count:\n",
    "            word_count[word]+=1\n",
    "        else:\n",
    "            word_count[word]=1\n",
    "    return word_count"
   ]
  },
  {
   "cell_type": "code",
   "execution_count": 83,
   "metadata": {},
   "outputs": [],
   "source": [
    "def computeWordCountSort(word_list: list)-> dict:\n",
    "    '''\n",
    "    This method computes the word counts by first sorting the list lexicographically\n",
    "    If the word is the same as the previous one, it increments count by 1\n",
    "    Else, it sets the count to the computed value, resets count to 1 and sets the current word to the new one\n",
    "    '''\n",
    "    word_list.sort()\n",
    "    cur=word_list[0]\n",
    "    count=1\n",
    "    word_count={}\n",
    "    for word in word_list[1:]:\n",
    "        if word==cur:\n",
    "            count+=1\n",
    "        else:\n",
    "            word_count[cur]=count\n",
    "            count=1\n",
    "            cur=word\n",
    "    word_count[cur]=count\n",
    "    return word_count"
   ]
  },
  {
   "cell_type": "markdown",
   "metadata": {},
   "source": [
    "The above functions are equivalent. You can use either of them to compute the word counts. Below, I use the ```computeWordCount()``` function"
   ]
  },
  {
   "cell_type": "markdown",
   "metadata": {},
   "source": [
    "#### Compute distance"
   ]
  },
  {
   "cell_type": "code",
   "execution_count": 95,
   "metadata": {},
   "outputs": [],
   "source": [
    "def dotProduct(vec1: dict, vec2: dict) -> float:\n",
    "    res=0.0\n",
    "    for key in set(list(vec1.keys())+list(vec2.keys())):\n",
    "        res+=vec1.get(key,0)*vec2.get(key,0)\n",
    "    return res"
   ]
  },
  {
   "cell_type": "code",
   "execution_count": 105,
   "metadata": {},
   "outputs": [],
   "source": [
    "def dotProductFaster(vec1: dict, vec2:dict) -> float:\n",
    "    res=0.0\n",
    "    if len(vec1)>len(vec2):\n",
    "        smaller,larger=vec2,vec1\n",
    "    else:\n",
    "        smaller,larger=vec1,vec2\n",
    "    for key in smaller.keys():\n",
    "        res+=smaller[key]*larger.get(key,0)\n",
    "    return res"
   ]
  },
  {
   "cell_type": "code",
   "execution_count": 86,
   "metadata": {},
   "outputs": [],
   "source": [
    "def normalize(word_list_doc1: list, word_list_doc2: list) -> int:\n",
    "    return len(word_list_doc1)*len(word_list_doc2)"
   ]
  },
  {
   "cell_type": "code",
   "execution_count": 108,
   "metadata": {},
   "outputs": [],
   "source": [
    "def docdist(doc1, doc2):\n",
    "    D1=splitIntoWords(open(doc_dir+doc1,\"r\").read())\n",
    "    D2=splitIntoWords(open(doc_dir+doc2,\"r\").read())\n",
    "    D1_WC=computeWordCount(D1)\n",
    "    D2_WC=computeWordCount(D2)\n",
    "    #Use either of the two function below\n",
    "    #Time them to see which is faster\n",
    "    DotProductValue=dotProduct(D1_WC, D2_WC)\n",
    "    DotProductValueFaster= dotProductFaster(D1_WC, D2_WC)\n",
    "    \n",
    "    normalizedDPValue=DotProductValueFaster/(normalize(D1,D2))\n",
    "    return math.acos(normalizedDPValue)\n",
    "    "
   ]
  },
  {
   "cell_type": "code",
   "execution_count": 109,
   "metadata": {},
   "outputs": [
    {
     "name": "stdout",
     "output_type": "stream",
     "text": [
      "70.0 70.0\n",
      "1.5590353029745017\n"
     ]
    }
   ],
   "source": [
    "print(docdist(doc_list[0], doc_list[1]))"
   ]
  },
  {
   "cell_type": "code",
   "execution_count": null,
   "metadata": {},
   "outputs": [],
   "source": []
  }
 ],
 "metadata": {
  "kernelspec": {
   "display_name": "Python 3",
   "language": "python",
   "name": "python3"
  },
  "language_info": {
   "codemirror_mode": {
    "name": "ipython",
    "version": 3
   },
   "file_extension": ".py",
   "mimetype": "text/x-python",
   "name": "python",
   "nbconvert_exporter": "python",
   "pygments_lexer": "ipython3",
   "version": "3.7.6"
  }
 },
 "nbformat": 4,
 "nbformat_minor": 4
}

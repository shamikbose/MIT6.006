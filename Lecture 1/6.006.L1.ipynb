{
 "cells": [
  {
   "cell_type": "markdown",
   "metadata": {},
   "source": [
    "# Lecture 1:  Algorithmic Thinking, Peak Finding\n",
    "\n",
    "Lecture by Srini Devdas at MIT\n",
    "\n",
    "Video link: [https://www.youtube.com/watch?v=HtSuA80QTyo&list=PLUl4u3cNGP61Oq3tWYp6V_F-5jb5L2iHb&index=1](https://www.youtube.com/watch?v=HtSuA80QTyo&list=PLUl4u3cNGP61Oq3tWYp6V_F-5jb5L2iHb&index=1)"
   ]
  },
  {
   "cell_type": "markdown",
   "metadata": {},
   "source": [
    "## Peak Finding (1-D)\n",
    "**Problem Statement:**\n",
    "\n",
    "Given a list of numbers nums of length *n* (1-indexed), a number **nums[i] is defined as a peak if nums[i-1]=<nums[i]>=nums[i+1]** \n",
    "\n",
    "num[0]=num[n]=-inf \n",
    "\n",
    "Return a peak if it exists\n",
    "\n",
    "Note: This will return any element that is a peak"
   ]
  },
  {
   "cell_type": "code",
   "execution_count": null,
   "metadata": {},
   "outputs": [],
   "source": [
    "import random\n",
    "limit_l, limit_h, count=-1000000, 1000000, 150000\n",
    "nums=[random.randint(limit_l, limit_h) for _ in range(count)]"
   ]
  },
  {
   "cell_type": "markdown",
   "metadata": {},
   "source": [
    "### Naive Solution\n",
    "\n",
    "Start at the left, look at all elements until the condition is fullfilled"
   ]
  },
  {
   "cell_type": "code",
   "execution_count": null,
   "metadata": {},
   "outputs": [],
   "source": [
    "def naivePeakFinder(nums):\n",
    "    peak=\"NaN\"\n",
    "    for i in range(len(nums)):\n",
    "        if i==0:\n",
    "            if nums[i]>=nums[i+1]:\n",
    "                peak=nums[i]\n",
    "                break\n",
    "        elif i==len(nums)-1:\n",
    "            if nums[i]>=nums[i-1]:\n",
    "                peak=nums[i]\n",
    "                break\n",
    "        else:\n",
    "            if nums[i-1]<=nums[i]>=nums[i+1]:\n",
    "                peak=nums[i]\n",
    "                break\n",
    "        return peak"
   ]
  },
  {
   "cell_type": "code",
   "execution_count": null,
   "metadata": {},
   "outputs": [],
   "source": [
    "%%timeit\n",
    "naivePeakFinder(nums)"
   ]
  },
  {
   "cell_type": "markdown",
   "metadata": {},
   "source": [
    "### Divide and Conquer\n",
    "1. Given nums, look at element at n/2. \n",
    "2. If nums[n/2]<nums[n/2+1], look only to the right. Go to step 1\n",
    "3. If nums[n/2]<nums[n/2-1], look only to the left. Go to step 1\n",
    "4. Return nums[n/2]"
   ]
  },
  {
   "cell_type": "code",
   "execution_count": null,
   "metadata": {},
   "outputs": [],
   "source": [
    "def dAndC_PeakFinder(nums, lo, hi) -> int:\n",
    "    mid=(lo+hi)//2\n",
    "    if nums[mid]<nums[mid+1]:\n",
    "        lo=mid+1\n",
    "        return peakFinder(nums, lo, hi)\n",
    "    elif nums[mid]<nums[mid-1]:\n",
    "        hi=mid\n",
    "        return peakFinder(nums, lo, hi)\n",
    "    else:\n",
    "        return nums[mid]\n"
   ]
  },
  {
   "cell_type": "code",
   "execution_count": null,
   "metadata": {},
   "outputs": [],
   "source": [
    "%%timeit\n",
    "dAndC_PeakFinder(nums, 0, len(nums)-1)"
   ]
  },
  {
   "cell_type": "markdown",
   "metadata": {},
   "source": [
    "## Extending to 2-D arrays\n",
    "Given a 2-D array Matrix, an element Matrix[i][j] is a hill (or peak) iff \n",
    "- Matrix[i][j] >= Matrix[i-1][j]\n",
    "- Matrix[i][j] >= Matrix[i+][j]\n",
    "- Matrix[i][j] >= Matrix[i][j+1]\n",
    "- Matrix[i][j] >= Matrix[i][j-1]"
   ]
  },
  {
   "cell_type": "markdown",
   "metadata": {},
   "source": [
    "### Greedy ascent\n",
    "Starting at some point, we check if it satisfies the conditions. If not, we pick the largest of it's neighbors and go there since the smaller ones cannot be peaks\n",
    "\n",
    "**Default Strategy:**\n",
    "\n",
    "1. Pick an arbitrary mid-point\n",
    "2. If it's already a peak, return\n",
    "3. Else, pick it's highest neighbor. Try Step 2"
   ]
  },
  {
   "cell_type": "code",
   "execution_count": null,
   "metadata": {},
   "outputs": [],
   "source": [
    "def neighbors(matrix, i, j) -> list:\n",
    "    '''\n",
    "    Returns neighbors of a cell in a matrix\n",
    "    '''\n",
    "    row,col=len(matrix), len(matrix[0])\n",
    "    neighbor_list=[(i+1,j),(i-1,j),(i,j+1),(i,j-1)]\n",
    "    for i in range(4):\n",
    "        if neighbor_list[i][0] in [-1,row] or neighbor_list[i][1] in [-1,col]:\n",
    "            neighbor_list[i]=None\n",
    "    return neighbor_list"
   ]
  },
  {
   "cell_type": "code",
   "execution_count": null,
   "metadata": {},
   "outputs": [],
   "source": [
    "def isPeak(matrix, curr, neighbors) -> bool:\n",
    "    '''\n",
    "    Returns True if a cell is a peak, otherwise False\n",
    "    '''\n",
    "    for neighbor in neighbors:\n",
    "        if neighbor:\n",
    "            if matrix[neighbor[0]][neighbor[1]]>curr:\n",
    "                return False\n",
    "        else:\n",
    "            continue\n",
    "    return True"
   ]
  },
  {
   "cell_type": "code",
   "execution_count": null,
   "metadata": {},
   "outputs": [],
   "source": [
    "def greedyAscent(matrix):\n",
    "    '''\n",
    "    Iterates through the matrix starting at a center point\n",
    "    '''\n",
    "    row,col=len(matrix),len(matrix[0])\n",
    "    i=row//2\n",
    "    j=col//2\n",
    "    count=1\n",
    "    while(True):\n",
    "        curr=matrix[i][j]\n",
    "        neighs = neighbors(matrix,i,j)\n",
    "        neighbor_values=[matrix[el[0]][el[1]] for el in neighs if el]\n",
    "        max_index=neighbor_values.index(max(neighbor_values))\n",
    "        if isPeak(matrix,curr,neighs):\n",
    "            return (i,j,curr, count)\n",
    "            break\n",
    "        count+=1\n",
    "        i=neighs[max_index][0]\n",
    "        j=neighs[max_index][1]"
   ]
  },
  {
   "cell_type": "code",
   "execution_count": null,
   "metadata": {},
   "outputs": [],
   "source": [
    "col_count, row_count=10,10\n",
    "matrix=[[random.randint(0,50) for _ in range(col_count)]for _ in range(row_count)]\n",
    "for row in matrix:\n",
    "    for el in row:\n",
    "        print(\"{:3d}\".format(el), end=\" \")\n",
    "    print()"
   ]
  },
  {
   "cell_type": "code",
   "execution_count": null,
   "metadata": {},
   "outputs": [],
   "source": [
    "res=greedyAscent(matrix)\n",
    "print(\"Peak with value {} found at ({},{})\\nNumber of iterations: {}\".format(res[2],res[0],res[1],res[3]))"
   ]
  },
  {
   "cell_type": "markdown",
   "metadata": {},
   "source": [
    "### Optimized Approach to finding 2-D peak (Divide and Conquer)\n",
    "\n",
    "1. Pick middle column (j=col/2)\n",
    "2. Find maximum of column. Let that be at (i,j)\n",
    "3. Compare to (i,j-1) and (i,j+1). If (i,j-1) is greater, move left. If (i,j+1) is greater, move right. Else return (i,j)\n",
    "\n"
   ]
  },
  {
   "cell_type": "code",
   "execution_count": null,
   "metadata": {},
   "outputs": [],
   "source": [
    "def columnMax(matrix, col):\n",
    "    '''\n",
    "    This is a helper function to find the index of maximum element in a column\n",
    "    '''\n",
    "    col_els=[row[col] for row in matrix]\n",
    "    return (col_els.index(max(col_els)))"
   ]
  },
  {
   "cell_type": "code",
   "execution_count": null,
   "metadata": {},
   "outputs": [],
   "source": [
    "def divAndConquerPeakFinding(matrix, col_min, col_max):\n",
    "    if col_max==col_min:\n",
    "        row=columnMax(matrix, col_min)\n",
    "        return row, col_min, matrix[row][col_min]\n",
    "    else:\n",
    "        col=(col_max+col_min)//2\n",
    "        row=columnMax(matrix, col)\n",
    "        if matrix[row][col+1]>matrix[row][col]:\n",
    "            divAndConquerPeakFinding(matrix,col+1, col_max)\n",
    "        elif matrix[row][col-1]>matrix[row][col]:\n",
    "            divAndConquerPeakFinding(matrix,col_min, col-1)\n",
    "        else:\n",
    "            return row, col, matrix[row][col]\n",
    "        "
   ]
  },
  {
   "cell_type": "code",
   "execution_count": null,
   "metadata": {},
   "outputs": [],
   "source": [
    "res=divAndConquerPeakFinding(matrix,0,len(matrix[0]))"
   ]
  },
  {
   "cell_type": "code",
   "execution_count": null,
   "metadata": {},
   "outputs": [],
   "source": [
    "print(\"Peak with value {} found at ({},{})\".format(res[2],res[0],res[1]))"
   ]
  },
  {
   "cell_type": "code",
   "execution_count": null,
   "metadata": {},
   "outputs": [],
   "source": []
  }
 ],
 "metadata": {
  "kernelspec": {
   "display_name": "Python 3",
   "language": "python",
   "name": "python3"
  },
  "language_info": {
   "codemirror_mode": {
    "name": "ipython",
    "version": 3
   },
   "file_extension": ".py",
   "mimetype": "text/x-python",
   "name": "python",
   "nbconvert_exporter": "python",
   "pygments_lexer": "ipython3",
   "version": "3.7.6"
  }
 },
 "nbformat": 4,
 "nbformat_minor": 4
}

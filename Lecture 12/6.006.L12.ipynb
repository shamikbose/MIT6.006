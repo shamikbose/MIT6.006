{
 "cells": [
  {
   "cell_type": "markdown",
   "metadata": {},
   "source": [
    "### Division"
   ]
  },
  {
   "cell_type": "code",
   "execution_count": 31,
   "metadata": {},
   "outputs": [],
   "source": [
    "import math\n",
    "def iterative_division(R: int, b: int) -> float:\n",
    "    '''\n",
    "    This function computes division iteratively using Newton's method\n",
    "    '''\n",
    "    num = 2**16\n",
    "    den = 2**int(math.log(b, 2))\n",
    "    #This is our initial guess\n",
    "    res = num//den \n",
    "    delta = 1\n",
    "    while(True):\n",
    "        prev=res\n",
    "        res=2*res - b*(res**2)//num\n",
    "        if abs(prev-res)<=delta:\n",
    "            break\n",
    "    \n",
    "    print(res*R>>16)"
   ]
  },
  {
   "cell_type": "code",
   "execution_count": 33,
   "metadata": {},
   "outputs": [
    {
     "name": "stdout",
     "output_type": "stream",
     "text": [
      "501\n"
     ]
    }
   ],
   "source": [
    "iterative_division(4514, 9)"
   ]
  },
  {
   "cell_type": "code",
   "execution_count": null,
   "metadata": {},
   "outputs": [],
   "source": []
  }
 ],
 "metadata": {
  "kernelspec": {
   "display_name": "Python 3",
   "language": "python",
   "name": "python3"
  },
  "language_info": {
   "codemirror_mode": {
    "name": "ipython",
    "version": 3
   },
   "file_extension": ".py",
   "mimetype": "text/x-python",
   "name": "python",
   "nbconvert_exporter": "python",
   "pygments_lexer": "ipython3",
   "version": "3.7.6"
  }
 },
 "nbformat": 4,
 "nbformat_minor": 4
}

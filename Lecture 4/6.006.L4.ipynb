{
 "cells": [
  {
   "cell_type": "markdown",
   "metadata": {},
   "source": [
    "### Priority Queue\n",
    "\n",
    "Implements a set S of elements and each element is associated with a key"
   ]
  },
  {
   "cell_type": "markdown",
   "metadata": {},
   "source": [
    "#### Operations to support:\n",
    "\n",
    "1. **max_heapify**: Fixes a single violation of the max-heap property\n",
    "2. **build_max_heap(L)** : Convert list L into a max-heap\n",
    "1. **insert (S,x)**: Insert element x into set S\n",
    "2. **max(S)** : Return element of S with largest key\n",
    "3. **extract_max(S)**: Return and remove element from S with largest key\n"
   ]
  },
  {
   "cell_type": "markdown",
   "metadata": {},
   "source": [
    "### Heap"
   ]
  },
  {
   "cell_type": "markdown",
   "metadata": {},
   "source": [
    "Implementation of a priority queue. Implemented as an array data structure.\n",
    "\n",
    "You can visualize it as a nearly-complete binary tree\n",
    "\n",
    "1. Root of tree is the first element (i=0)\n",
    "2. parent(i) = i//2 \n",
    "3. left(i) = 2 * i, right= 2 * i + 1"
   ]
  },
  {
   "cell_type": "markdown",
   "metadata": {},
   "source": [
    "#### Max-heap and Min-heap\n",
    "For a **max-heap**, the key of the i<sup>th,</sup> node is >= keys of its children\n",
    "\n",
    "For a **min-heap**, the key of the i<sup>th,</sup> node is <= keys of its children"
   ]
  },
  {
   "cell_type": "code",
   "execution_count": 120,
   "metadata": {},
   "outputs": [],
   "source": [
    "def max_heapify(A: list, i:int, verbose=False):\n",
    "    '''\n",
    "    Assume that the trees rooted at left(i) and right(i)\n",
    "    are max heaps\n",
    "    '''\n",
    "    heap_size=len(A)\n",
    "    left=2*i-1\n",
    "    right=2*i\n",
    "    if verbose:\n",
    "        print(f\"Element: {A[i-1]}\")\n",
    "    if verbose:\n",
    "        if left<heap_size:\n",
    "            print(f\"Left element: {A[left]}\", end=\" \")\n",
    "        else:\n",
    "            print(\"Left element: None\", end=\" \")\n",
    "        if right<heap_size:\n",
    "            print(f\"Right element: {A[right]}\")\n",
    "        else:\n",
    "            print(\"Right element: None\")\n",
    "    largest=i-1\n",
    "    if left<heap_size:\n",
    "        if A[left]>A[i-1]:\n",
    "            largest=left\n",
    "    if right<heap_size:\n",
    "        if A[right]>A[largest]:\n",
    "            largest=right\n",
    "        \n",
    "    if largest != i-1:\n",
    "        if verbose:\n",
    "            print(A)\n",
    "            print(f\"Swapping A[{largest}]: {A[largest]} with A[{i-1}]: {A[i-1]}\")\n",
    "        A[i-1],A[largest]=A[largest],A[i-1]\n",
    "        if verbose:\n",
    "            print(A)\n",
    "        max_heapify(A, largest+1)\n",
    "        \n",
    "        "
   ]
  },
  {
   "cell_type": "code",
   "execution_count": 123,
   "metadata": {},
   "outputs": [],
   "source": [
    "def build_max_heap(A: list, verbose=False):\n",
    "    for i in range(len(A)//2,0,-1):\n",
    "        max_heapify(A,i, verbose)"
   ]
  },
  {
   "cell_type": "code",
   "execution_count": 125,
   "metadata": {},
   "outputs": [],
   "source": [
    "def extract_max(A, verbose=False):\n",
    "    A[0],A[-1]=A[-1],A[0]\n",
    "    max_val=A[-1]\n",
    "    A=A[:-1]\n",
    "    max_heapify(A,1)\n",
    "    return max_val,A"
   ]
  },
  {
   "cell_type": "code",
   "execution_count": 139,
   "metadata": {},
   "outputs": [],
   "source": [
    "def heapsort(A: list, verbose=False) -> list:\n",
    "    '''\n",
    "    This function takes a heap as input and sorts it\n",
    "    in descending order.\n",
    "    type: list, bool\n",
    "    rtype: list\n",
    "    '''\n",
    "    heap_size=len(A)\n",
    "    build_max_heap(A)\n",
    "    res=[]\n",
    "    for i in range(heap_size):\n",
    "        temp,A=extract_max(A,verbose)\n",
    "        res.append(temp)\n",
    "        if verbose:\n",
    "            print(res, end=\" \")\n",
    "            if not A:\n",
    "                print(\"End of heap reached\")\n",
    "                break\n",
    "    return res\n"
   ]
  },
  {
   "cell_type": "code",
   "execution_count": 145,
   "metadata": {},
   "outputs": [],
   "source": [
    "def insert(A: list,x: int):\n",
    "    '''\n",
    "    This function takes a heap A as input and \n",
    "    inserts the element x at the correct spot\n",
    "    '''\n",
    "    A.append(x)\n",
    "    max_heapify(A,len(A)//2)"
   ]
  },
  {
   "cell_type": "code",
   "execution_count": 148,
   "metadata": {},
   "outputs": [],
   "source": [
    "def maxElement(A: list) -> int:\n",
    "    '''\n",
    "    This function takes a max-heap A\n",
    "    as input and returns the max element'''\n",
    "    return A[0]"
   ]
  },
  {
   "cell_type": "code",
   "execution_count": 150,
   "metadata": {},
   "outputs": [
    {
     "name": "stdout",
     "output_type": "stream",
     "text": [
      "124\n"
     ]
    }
   ],
   "source": [
    "A=[-3,9,2,87,31,124]\n",
    "build_max_heap(A)\n",
    "print(maxElement(A))"
   ]
  },
  {
   "cell_type": "code",
   "execution_count": null,
   "metadata": {},
   "outputs": [],
   "source": []
  }
 ],
 "metadata": {
  "kernelspec": {
   "display_name": "Python 3",
   "language": "python",
   "name": "python3"
  },
  "language_info": {
   "codemirror_mode": {
    "name": "ipython",
    "version": 3
   },
   "file_extension": ".py",
   "mimetype": "text/x-python",
   "name": "python",
   "nbconvert_exporter": "python",
   "pygments_lexer": "ipython3",
   "version": "3.7.6"
  }
 },
 "nbformat": 4,
 "nbformat_minor": 4
}

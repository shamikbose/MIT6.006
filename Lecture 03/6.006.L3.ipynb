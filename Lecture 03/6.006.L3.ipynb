{
 "cells": [
  {
   "cell_type": "markdown",
   "metadata": {},
   "source": [
    "### Sorting\n",
    "\n",
    "Lecture by Srini Devdas at MIT\n",
    "\n",
    "Video link: [https://www.youtube.com/watch?v=Kg4bqzAqRBM&list=PLUl4u3cNGP61Oq3tWYp6V_F-5jb5L2iHb&index=3](https://www.youtube.com/watch?v=Kg4bqzAqRBM&list=PLUl4u3cNGP61Oq3tWYp6V_F-5jb5L2iHb&index=3)"
   ]
  },
  {
   "cell_type": "code",
   "execution_count": 21,
   "metadata": {},
   "outputs": [],
   "source": [
    "import random, time\n",
    "def generateArray(n: int=10, min_range: int=-100, max_range: int=100) -> list:\n",
    "    '''\n",
    "    Helper function to generate an array of size n \n",
    "    where elements are in the (min-range, max_range) range\n",
    "    '''\n",
    "    array=[random.randint(min_range, max_range) for i in range(n)]\n",
    "    return array"
   ]
  },
  {
   "cell_type": "markdown",
   "metadata": {},
   "source": [
    "#### Insertion Sort"
   ]
  },
  {
   "cell_type": "markdown",
   "metadata": {},
   "source": [
    "```For i=1..n #The first element is sorted by default\n",
    "   insert A[i] into sorted array A[0:i-1] \n",
    "   pairwise swaps down to the correct position```"
   ]
  },
  {
   "cell_type": "code",
   "execution_count": 25,
   "metadata": {},
   "outputs": [],
   "source": [
    "def insertionSort(array: list, ascending: bool= True, verbose: int = 1) -> None:\n",
    "    '''\n",
    "    This function sorts the array in-place and does not return anything\n",
    "    ascending: if True, the array will be returned in ascending order, else in descending order\n",
    "    verbose: 0 - doesn't show any ouptut. \n",
    "             1 - displays array before and after sorting and the number of swaps\n",
    "             2 - displays every time a swap is made\n",
    "    '''\n",
    "    assert verbose in [0,1,2], \"Invalid value for verbose\"\n",
    "    if verbose:\n",
    "        print(\"Before sorting\")\n",
    "        print(array)\n",
    "    if ascending:\n",
    "        mult_factor=1\n",
    "    else:\n",
    "        mult_factor=-1\n",
    "    swap_count=0\n",
    "    for key_idx in range(1,len(array)):\n",
    "        for inner_idx in range(key_idx):\n",
    "            key,el=array[key_idx]*mult_factor, array[inner_idx]*mult_factor\n",
    "            if key<el:\n",
    "                array[inner_idx],array[key_idx]=array[key_idx],array[inner_idx]\n",
    "                swap_count+=1\n",
    "                if verbose>1:\n",
    "                    print(f\"After swap #{swap_count}\", array)\n",
    "                \n",
    "    if verbose:\n",
    "        print(f\"After sorting. Total number of swaps: {swap_count}\")\n",
    "        print(array)\n",
    "                "
   ]
  },
  {
   "cell_type": "markdown",
   "metadata": {},
   "source": [
    "**Improvement to insertion sort**\n",
    "\n",
    "- *Observation*: All elements before the current one are already sorted\n",
    "- *Action*: Use binary search instead of pairwise swaps. \n",
    "\n",
    "**Note**: The number of swaps does not decrease since all elements have to be moved to put the key in the correct position"
   ]
  },
  {
   "cell_type": "markdown",
   "metadata": {},
   "source": [
    "**TO-DO** \n",
    "\n",
    "Implement ascending/descending for binary insertion sort"
   ]
  },
  {
   "cell_type": "code",
   "execution_count": 188,
   "metadata": {},
   "outputs": [],
   "source": [
    "def rotateElements(arr,start,end) -> None:\n",
    "    assert start<len(arr) and end<len(arr) and start<=end, \"Cannot move elements\"\n",
    "    for i in range(end, start, -1):\n",
    "        arr[i],arr[i-1]=arr[i-1],arr[i]\n",
    "    return"
   ]
  },
  {
   "cell_type": "code",
   "execution_count": 290,
   "metadata": {},
   "outputs": [],
   "source": [
    "def binarySearch(arr, val, start, end):\n",
    "    if start==end:\n",
    "        temp=arr[start]\n",
    "        if temp>val:\n",
    "            return start\n",
    "        else:\n",
    "            return start+1\n",
    "    if start>end:\n",
    "        return start\n",
    "    mid=(start+end)//2\n",
    "    temp=array[mid]\n",
    "    if temp>val:\n",
    "        return binarySearch(arr, val,start, mid-1)\n",
    "    elif temp<val:\n",
    "        return binarySearch(arr, val, mid+1, end)\n",
    "    else:\n",
    "        return mid\n",
    "        "
   ]
  },
  {
   "cell_type": "code",
   "execution_count": 291,
   "metadata": {},
   "outputs": [],
   "source": [
    "def improvedInsertionSort(array: list, ascending: bool= True, verbose: int = 1) -> None:\n",
    "    '''\n",
    "    This function sorts the array in-place and does not return anything\n",
    "    ascending: if True, the array will be returned in ascending order, else in descending order\n",
    "    verbose: 0 - doesn't show any ouptut. \n",
    "             1 - displays array before and after sorting and the number of swaps\n",
    "             2 - displays every time a swap is made\n",
    "    '''\n",
    "    assert verbose in [0,1,2], \"Invalid value for verbose\"\n",
    "    if verbose:\n",
    "        print(\"Before sorting\")\n",
    "        print(array)\n",
    "    swap_count=0\n",
    "    for key_idx in range(1,len(array)):\n",
    "        lo, hi= 0, key_idx-1\n",
    "        key=array[key_idx]\n",
    "        pos=binarySearch(array,key,lo,hi)\n",
    "        if pos!=key_idx:\n",
    "            rotateElements(array, pos, key_idx)\n",
    "            swap_count+=key_idx-pos\n",
    "        if verbose>1:\n",
    "            print(array)          \n",
    "    if verbose:\n",
    "        print(f\"After sorting. Total number of swaps: {swap_count}\")\n",
    "        print(array)\n",
    "                    "
   ]
  },
  {
   "cell_type": "markdown",
   "metadata": {},
   "source": [
    "#### Merge Sort"
   ]
  },
  {
   "cell_type": "markdown",
   "metadata": {},
   "source": [
    "```Break down list into single elements, which by definition are sorted\n",
    "Merge each of these one-element lists into a sorted list```"
   ]
  },
  {
   "cell_type": "code",
   "execution_count": 354,
   "metadata": {},
   "outputs": [],
   "source": [
    "def mergeSort(array):\n",
    "    '''\n",
    "    Breaks down the list into single-element lists\n",
    "    '''\n",
    "    if len(array)>1:\n",
    "        mid=len(array)//2\n",
    "        left_arr=array[:mid]\n",
    "        right_arr=array[mid:]\n",
    "        mergeSort(left_arr)\n",
    "        mergeSort(right_arr)\n",
    "        return merge(left_arr, right_arr, array)\n",
    "\n",
    "def merge(left_arr, right_arr, array):\n",
    "    '''\n",
    "    Takes two sorted lists as input and \n",
    "    merges them in O(|left_arr| + |right_arr|) time\n",
    "    '''\n",
    "    i,j,k=0,0,0\n",
    "    while(i<len(left_arr) and j<len(right_arr)):\n",
    "        if left_arr[i]<right_arr[j]:\n",
    "            array[k]=left_arr[i]\n",
    "            i+=1\n",
    "        else:\n",
    "            array[k]=right_arr[j]\n",
    "            j+=1\n",
    "        k+=1\n",
    "    while i<len(left_arr):\n",
    "        array[k]=left_arr[i]\n",
    "        i+=1\n",
    "        k+=1\n",
    "    while j<len(right_arr):\n",
    "        array[k]=right_arr[j]\n",
    "        j+=1\n",
    "        k+=1"
   ]
  }
 ],
 "metadata": {
  "kernelspec": {
   "display_name": "Python 3",
   "language": "python",
   "name": "python3"
  },
  "language_info": {
   "codemirror_mode": {
    "name": "ipython",
    "version": 3
   },
   "file_extension": ".py",
   "mimetype": "text/x-python",
   "name": "python",
   "nbconvert_exporter": "python",
   "pygments_lexer": "ipython3",
   "version": "3.7.6"
  }
 },
 "nbformat": 4,
 "nbformat_minor": 4
}

{
 "cells": [
  {
   "cell_type": "markdown",
   "metadata": {},
   "source": [
    "### Hashing, Chaining, Dictionaries"
   ]
  },
  {
   "cell_type": "markdown",
   "metadata": {},
   "source": [
    "#### Dictionaries\n",
    "- **A**bstract **D**ata **T**ype\n",
    "- Maintain set of items, each with a *key*\n",
    "- Operations:\n",
    "  1. ```insert(item)``` - Overwrite existing keys\n",
    "  2. ```delete(item)``` - Delete key if exists, else raise error\n",
    "  3. ```search(key)``` - Return item with given key, else raise error"
   ]
  },
  {
   "cell_type": "markdown",
   "metadata": {},
   "source": [
    "#### Prehashing\n",
    "- Maps keys to non-negative integers\n",
    "- In theory, keys are *finite* and *discrete* (string of bits)\n",
    "- ```prehash(x) == prehash(y)``` should only hold true iff **x==y**"
   ]
  },
  {
   "cell_type": "markdown",
   "metadata": {},
   "source": [
    "#### Hashing\n",
    "- Reduce universe of all keys(integers) down to reasonable size **m** for table. Let this function be h()\n",
    "- **m** ~ O(n) where n is the number of keys\n",
    "- if h(k<sub>1</sub>) == h(k<sub>2</sub>) and k<sub>1</sub> != k<sub>2</sub>, this is called a **collision**"
   ]
  },
  {
   "cell_type": "markdown",
   "metadata": {},
   "source": [
    "#### Chaining\n",
    "- Based on linked lists\n",
    "- Colliding elements are stored as a linked list"
   ]
  },
  {
   "cell_type": "markdown",
   "metadata": {},
   "source": [
    "#### Simple uniform hashing\n",
    "**Assumption** : Each key is equally likely to be hashed to any slot of the table irrespective of where the other keys hash to \n",
    "\n",
    "Expected length of a chain for *n* keys and *m* slots in the table = n/m ($\\alpha$ : load factor)\n",
    "\n"
   ]
  },
  {
   "cell_type": "code",
   "execution_count": 27,
   "metadata": {},
   "outputs": [],
   "source": [
    "import random"
   ]
  },
  {
   "cell_type": "code",
   "execution_count": 8,
   "metadata": {},
   "outputs": [],
   "source": [
    "class Node():\n",
    "    def __init__(self, key=None, value=None):\n",
    "        self.key=key\n",
    "        self.value=value\n",
    "        self.next=None"
   ]
  },
  {
   "cell_type": "code",
   "execution_count": 72,
   "metadata": {},
   "outputs": [],
   "source": [
    "def universal_hashing_function(k):\n",
    "    '''\n",
    "    Implements the universal hashing function\n",
    "    h(k)=[(ak+b) % p] % m\n",
    "    k is the key to be hashed\n",
    "    p is a large prime > U (size of the universe of keys)\n",
    "    a,b are random non-negative integers smaller than p\n",
    "    m is the size of the table\n",
    "    '''\n",
    "    k=hash(k)\n",
    "    return ((a*k + b) % p) % m\n"
   ]
  },
  {
   "cell_type": "code",
   "execution_count": 94,
   "metadata": {},
   "outputs": [],
   "source": [
    "def insert(key, value):\n",
    "    key_hash=universal_hashing_function(key)\n",
    "    key_collision=0\n",
    "    if not dictionary[key_hash]:\n",
    "        dictionary[key_hash]=Node(key, value)\n",
    "    else:\n",
    "        temp_node=dictionary[key_hash]\n",
    "        while(temp_node):\n",
    "            if temp_node.key==key:\n",
    "                temp_node.value=value\n",
    "                key_collision=1\n",
    "                break\n",
    "            else:\n",
    "                temp_node=temp_node.next\n",
    "        if not key_collision:\n",
    "            temp_node.next=Node(key, value)   \n",
    "    return key_collision"
   ]
  },
  {
   "cell_type": "code",
   "execution_count": 74,
   "metadata": {},
   "outputs": [],
   "source": [
    "def getitem(key):\n",
    "    key_hash=universal_hashing_function(key)\n",
    "    if not dictionary[key_hash]:\n",
    "        raise KeyError(\"Key does not exist\")\n",
    "    else:\n",
    "        temp_node=dictionary[key_hash]\n",
    "        while(temp_node):\n",
    "            if temp_node.key==key:\n",
    "                return temp_node.value\n",
    "            else:\n",
    "                temp_node=temp_node.next\n",
    "        raise KeyError(\"Key does not exist\")"
   ]
  },
  {
   "cell_type": "code",
   "execution_count": 75,
   "metadata": {},
   "outputs": [],
   "source": [
    "def delete(key):\n",
    "    key_hash=universal_hashing_function(key)\n",
    "    if not dictionary[key_hash]:\n",
    "        raise KeyError(\"Key does not exist\")\n",
    "    else:\n",
    "        temp_node=dictionary[key_hash]\n",
    "        prev=None\n",
    "        while(temp_node):\n",
    "            if temp_node.key==key:\n",
    "                if not prev:\n",
    "                    dictionary[key_hash]=temp_node.next\n",
    "                else:\n",
    "                    prev.next=temp_node.next\n",
    "                return\n",
    "            else:\n",
    "                prev=temp_node\n",
    "                temp_node=temp_node.next\n",
    "        raise KeyError(\"Key does not exist\")"
   ]
  },
  {
   "cell_type": "code",
   "execution_count": 52,
   "metadata": {},
   "outputs": [],
   "source": [
    "def show():\n",
    "    for idx in range(len(dictionary)):\n",
    "        entry=dictionary[idx]\n",
    "        if entry:\n",
    "            temp=entry\n",
    "            while(temp):\n",
    "                print(\"{{ {} : {} }}\".format(temp.key, temp.value), end=\", \")\n",
    "                temp=temp.next"
   ]
  },
  {
   "cell_type": "markdown",
   "metadata": {},
   "source": [
    "#### Large Prime Number Generation\n",
    "The following cell implements a large prime number generator. It is taken from the code at [this link](https://medium.com/@prudywsh/how-to-generate-big-prime-numbers-miller-rabin-49e6e6af32fb)"
   ]
  },
  {
   "cell_type": "code",
   "execution_count": 24,
   "metadata": {},
   "outputs": [],
   "source": [
    "from random import randrange, getrandbits\n",
    "def is_prime(n, k=128):\n",
    "    \"\"\" Test if a number is prime\n",
    "        Args:\n",
    "            n -- int -- the number to test\n",
    "            k -- int -- the number of tests to do\n",
    "        return True if n is prime\n",
    "    \"\"\"\n",
    "    # Test if n is not even.\n",
    "    # But care, 2 is prime !\n",
    "    if n == 2 or n == 3:\n",
    "        return True\n",
    "    if n <= 1 or n % 2 == 0:\n",
    "        return False\n",
    "    # find r and s\n",
    "    s = 0\n",
    "    r = n - 1\n",
    "    while r & 1 == 0:\n",
    "        s += 1\n",
    "        r //= 2\n",
    "    # do k tests\n",
    "    for _ in range(k):\n",
    "        a = randrange(2, n - 1)\n",
    "        x = pow(a, r, n)\n",
    "        if x != 1 and x != n - 1:\n",
    "            j = 1\n",
    "            while j < s and x != n - 1:\n",
    "                x = pow(x, 2, n)\n",
    "                if x == 1:\n",
    "                    return False\n",
    "                j += 1\n",
    "            if x != n - 1:\n",
    "                return False\n",
    "    return True\n",
    "def generate_prime_candidate(length):\n",
    "    \"\"\" Generate an odd integer randomly\n",
    "        Args:\n",
    "            length -- int -- the length of the number to generate, in bits\n",
    "        return a integer\n",
    "    \"\"\"\n",
    "    # generate random bits\n",
    "    p = getrandbits(length)\n",
    "    # apply a mask to set MSB and LSB to 1\n",
    "    p |= (1 << length - 1) | 1\n",
    "    return p\n",
    "def generate_prime_number(length=1024):\n",
    "    \"\"\" Generate a prime\n",
    "        Args:\n",
    "            length -- int -- length of the prime to generate, in          bits\n",
    "        return a prime\n",
    "    \"\"\"\n",
    "    p = 4\n",
    "    # keep generating while the primality test fail\n",
    "    while not is_prime(p, 64):\n",
    "        p = generate_prime_candidate(length)\n",
    "    return p"
   ]
  },
  {
   "cell_type": "code",
   "execution_count": 97,
   "metadata": {},
   "outputs": [],
   "source": [
    "m=1000\n",
    "p=generate_prime_number(length=128)\n",
    "a,b=random.randint(0,p-1), random.randint(0,p-1)\n",
    "dictionary=[None for _ in range(m)]"
   ]
  },
  {
   "cell_type": "code",
   "execution_count": 98,
   "metadata": {},
   "outputs": [
    {
     "name": "stdout",
     "output_type": "stream",
     "text": [
      "11 collisions\n"
     ]
    }
   ],
   "source": [
    "c=0\n",
    "for _ in range(50):\n",
    "    c+=insert(key=random.randint(0,100), value=random.random())\n",
    "print(\"{} collisions\".format(c))"
   ]
  },
  {
   "cell_type": "code",
   "execution_count": 100,
   "metadata": {},
   "outputs": [
    {
     "name": "stdout",
     "output_type": "stream",
     "text": [
      "{ 93 : 0.11736287184252514 }, { 87 : 0.407841307989703 }, { 41 : 0.10999523340638151 }, { 95 : 0.7786571451985072 }, { 45 : 0.3411739410674578 }, { 92 : 0.9800387466963579 }, { 31 : 0.3643077573522411 }, { 35 : 0.13952374830847702 }, { 28 : 0.15788370512702476 }, { 82 : 0.0033165954375194984 }, { 75 : 0.1463276267028083 }, { 39 : 0.14321754910912732 }, { 86 : 0.38583691569482725 }, { 79 : 0.6814294414692729 }, { 36 : 0.5835915470309202 }, { 22 : 0.5070119855708576 }, { 26 : 0.016311742179795252 }, { 23 : 0.13778941957572943 }, { 77 : 0.12247972886867553 }, { 63 : 0.5377870209516074 }, { 27 : 0.0806751858863981 }, { 13 : 0.7622952254024683 }, { 24 : 0.5089521097763241 }, { 71 : 0.5271012696135149 }, { 64 : 0.854599561168042 }, { 21 : 0.8971324295723885 }, { 68 : 0.619753056361715 }, { 7 : 0.9245424961414358 }, { 18 : 0.05595102735937674 }, { 58 : 0.5508895653656204 }, { 15 : 0.2182296867595075 }, { 62 : 0.775066016802474 }, { 12 : 0.0917282562996844 }, { 59 : 0.3236011085896672 }, { 52 : 0.33677761806776474 }, { 96 : 0.5290182069418148 }, { 53 : 0.49188902821985125 }, { 46 : 0.7125871356013855 }, "
     ]
    }
   ],
   "source": [
    "show()"
   ]
  },
  {
   "cell_type": "code",
   "execution_count": 101,
   "metadata": {},
   "outputs": [
    {
     "ename": "KeyError",
     "evalue": "'Key does not exist'",
     "output_type": "error",
     "traceback": [
      "\u001b[1;31m---------------------------------------------------------------------------\u001b[0m",
      "\u001b[1;31mKeyError\u001b[0m                                  Traceback (most recent call last)",
      "\u001b[1;32m<ipython-input-101-eff9476e6ae7>\u001b[0m in \u001b[0;36m<module>\u001b[1;34m\u001b[0m\n\u001b[1;32m----> 1\u001b[1;33m \u001b[0mdelete\u001b[0m\u001b[1;33m(\u001b[0m\u001b[1;36m32\u001b[0m\u001b[1;33m)\u001b[0m\u001b[1;33m\u001b[0m\u001b[1;33m\u001b[0m\u001b[0m\n\u001b[0m",
      "\u001b[1;32m<ipython-input-75-3daafe00e972>\u001b[0m in \u001b[0;36mdelete\u001b[1;34m(key)\u001b[0m\n\u001b[0;32m      2\u001b[0m     \u001b[0mkey_hash\u001b[0m\u001b[1;33m=\u001b[0m\u001b[0muniversal_hashing_function\u001b[0m\u001b[1;33m(\u001b[0m\u001b[0mkey\u001b[0m\u001b[1;33m)\u001b[0m\u001b[1;33m\u001b[0m\u001b[1;33m\u001b[0m\u001b[0m\n\u001b[0;32m      3\u001b[0m     \u001b[1;32mif\u001b[0m \u001b[1;32mnot\u001b[0m \u001b[0mdictionary\u001b[0m\u001b[1;33m[\u001b[0m\u001b[0mkey_hash\u001b[0m\u001b[1;33m]\u001b[0m\u001b[1;33m:\u001b[0m\u001b[1;33m\u001b[0m\u001b[1;33m\u001b[0m\u001b[0m\n\u001b[1;32m----> 4\u001b[1;33m         \u001b[1;32mraise\u001b[0m \u001b[0mKeyError\u001b[0m\u001b[1;33m(\u001b[0m\u001b[1;34m\"Key does not exist\"\u001b[0m\u001b[1;33m)\u001b[0m\u001b[1;33m\u001b[0m\u001b[1;33m\u001b[0m\u001b[0m\n\u001b[0m\u001b[0;32m      5\u001b[0m     \u001b[1;32melse\u001b[0m\u001b[1;33m:\u001b[0m\u001b[1;33m\u001b[0m\u001b[1;33m\u001b[0m\u001b[0m\n\u001b[0;32m      6\u001b[0m         \u001b[0mtemp_node\u001b[0m\u001b[1;33m=\u001b[0m\u001b[0mdictionary\u001b[0m\u001b[1;33m[\u001b[0m\u001b[0mkey_hash\u001b[0m\u001b[1;33m]\u001b[0m\u001b[1;33m\u001b[0m\u001b[1;33m\u001b[0m\u001b[0m\n",
      "\u001b[1;31mKeyError\u001b[0m: 'Key does not exist'"
     ]
    }
   ],
   "source": [
    "delete(32)"
   ]
  },
  {
   "cell_type": "code",
   "execution_count": 102,
   "metadata": {},
   "outputs": [
    {
     "data": {
      "text/plain": [
       "0.0917282562996844"
      ]
     },
     "execution_count": 102,
     "metadata": {},
     "output_type": "execute_result"
    }
   ],
   "source": [
    "getitem(12)"
   ]
  },
  {
   "cell_type": "code",
   "execution_count": null,
   "metadata": {},
   "outputs": [],
   "source": []
  }
 ],
 "metadata": {
  "kernelspec": {
   "display_name": "Python 3",
   "language": "python",
   "name": "python3"
  },
  "language_info": {
   "codemirror_mode": {
    "name": "ipython",
    "version": 3
   },
   "file_extension": ".py",
   "mimetype": "text/x-python",
   "name": "python",
   "nbconvert_exporter": "python",
   "pygments_lexer": "ipython3",
   "version": "3.7.6"
  }
 },
 "nbformat": 4,
 "nbformat_minor": 4
}

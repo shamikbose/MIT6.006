{
 "cells": [
  {
   "cell_type": "markdown",
   "metadata": {},
   "source": [
    "### Hashing, Chaining, Dictionaries"
   ]
  },
  {
   "cell_type": "markdown",
   "metadata": {},
   "source": [
    "#### Dictionaries\n",
    "- **A**bstract **D**ata **T**ype\n",
    "- Maintain set of items, each with a *key*\n",
    "- Operations:\n",
    "  1. ```insert(item)``` - Overwrite existing keys\n",
    "  2. ```delete(item)``` - Delete key if exists, else raise error\n",
    "  3. ```search(key)``` - Return item with given key, else raise error"
   ]
  },
  {
   "cell_type": "markdown",
   "metadata": {},
   "source": [
    "#### Prehashing\n",
    "- Maps keys to non-negative integers\n",
    "- In theory, keys are *finite* and *discrete* (string of bits)\n",
    "- ```prehash(x) == prehash(y)``` should only hold true iff **x==y**"
   ]
  },
  {
   "cell_type": "markdown",
   "metadata": {},
   "source": [
    "#### Hashing\n",
    "- Reduce universe of all keys(integers) down to reasonable size **m** for table. Let this function be h()\n",
    "- **m** ~ O(n) where n is the number of keys\n",
    "- if h(k<sub>1</sub>) == h(k<sub>2</sub>) and k<sub>1</sub> != k<sub>2</sub>, this is called a **collision**"
   ]
  },
  {
   "cell_type": "markdown",
   "metadata": {},
   "source": [
    "#### Chaining\n",
    "- Based on linked lists\n",
    "- Colliding elements are stored as a linked list"
   ]
  },
  {
   "cell_type": "markdown",
   "metadata": {},
   "source": [
    "#### Simple uniform hashing\n",
    "**Assumption** : Each key is equally likely to be hashed to any slot of the table irrespective of where the other keys hash to \n",
    "\n",
    "Expected length of a chain for *n* keys and *m* slots in the table = n/m ($\\alpha$ : load factor)\n",
    "\n"
   ]
  },
  {
   "cell_type": "code",
   "execution_count": null,
   "metadata": {},
   "outputs": [],
   "source": [
    "import random"
   ]
  },
  {
   "cell_type": "code",
   "execution_count": null,
   "metadata": {},
   "outputs": [],
   "source": [
    "class Node():\n",
    "    def __init__(self, key=None, value=None):\n",
    "        self.key=key\n",
    "        self.value=value\n",
    "        self.next=None"
   ]
  },
  {
   "cell_type": "markdown",
   "metadata": {},
   "source": [
    "#### Large Prime Number Generation\n",
    "The Dictionary class uses a large prime number generator. It is taken from the code at [this link](https://medium.com/@prudywsh/how-to-generate-big-prime-numbers-miller-rabin-49e6e6af32fb)"
   ]
  },
  {
   "cell_type": "code",
   "execution_count": null,
   "metadata": {},
   "outputs": [],
   "source": [
    "class Dictionary():\n",
    "    \n",
    "    def __init__(self, m=1000):\n",
    "        from random import randrange, getrandbits, randint\n",
    "        self.m=m\n",
    "        self.data=[None for _ in range(m)]\n",
    "        self.p=generate_prime_number(length=256)\n",
    "        self.a, self.b= randint(0,p-1), randint(0,p-1)\n",
    "        self._length_=0\n",
    "        self._alpha_=0\n",
    "    \n",
    "    def is_prime(self, n, k=128):\n",
    "        \"\"\" Test if a number is prime\n",
    "            Args:\n",
    "                n -- int -- the number to test\n",
    "                k -- int -- the number of tests to do\n",
    "            return True if n is prime\n",
    "        \"\"\"\n",
    "        if n == 2 or n == 3:\n",
    "            return True\n",
    "        if n <= 1 or n % 2 == 0:\n",
    "            return False\n",
    "        # find r and s\n",
    "        s = 0\n",
    "        r = n - 1\n",
    "        while r & 1 == 0:\n",
    "            s += 1\n",
    "            r //= 2\n",
    "        # Run k tests\n",
    "        for _ in range(k):\n",
    "            a = randrange(2, n - 1)\n",
    "            x = pow(a, r, n)\n",
    "            if x != 1 and x != n - 1:\n",
    "                j = 1\n",
    "                while j < s and x != n - 1:\n",
    "                    x = pow(x, 2, n)\n",
    "                    if x == 1:\n",
    "                        return False\n",
    "                    j += 1\n",
    "                if x != n - 1:\n",
    "                    return False\n",
    "        return True\n",
    "    \n",
    "    def generate_prime_candidate(self, length):\n",
    "        \"\"\" Generate an odd integer randomly\n",
    "            Args:\n",
    "                length -- int -- the length of the number to generate, in bits\n",
    "            return a integer\n",
    "        \"\"\"\n",
    "        # generate random bits\n",
    "        p = getrandbits(length)\n",
    "        # apply a mask to set MSB and LSB to 1\n",
    "        p |= (1 << length - 1) | 1\n",
    "        return p\n",
    "    \n",
    "    def generate_prime_number(self, length=1024):\n",
    "        \"\"\" Generate a prime\n",
    "            Args:\n",
    "                length -- int -- length of the prime to generate, in          bits\n",
    "            return a prime\n",
    "        \"\"\"\n",
    "        p = 4\n",
    "        # keep generating while the primality test fail\n",
    "        while not self.is_prime(p, 64):\n",
    "            p = self.generate_prime_candidate(length)\n",
    "        return p\n",
    "    \n",
    "    def universal_hashing_function(self, k):\n",
    "        '''\n",
    "        Implements the universal hashing function\n",
    "        h(k)=[(ak+b) % p] % m\n",
    "        k is the key to be hashed\n",
    "        p is a large prime > U (size of the universe of keys)\n",
    "        a,b are random non-negative integers smaller than p\n",
    "        m is the size of the table\n",
    "        '''\n",
    "        k=hash(k)\n",
    "        return ((self.a*k + self.b) % self.p) % self.m\n",
    "    \n",
    "    def insert(self, key, value):\n",
    "        key_hash=self.universal_hashing_function(key)\n",
    "        key_collision=0\n",
    "        chain=0\n",
    "        if not self.data[key_hash]:\n",
    "            self.data[key_hash]=Node(key, value)\n",
    "        else:\n",
    "            temp_node=self.data[key_hash]\n",
    "            prev=None\n",
    "            while(temp_node):\n",
    "                if temp_node.key==key:\n",
    "                    temp_node.value=value\n",
    "                    key_collision=1\n",
    "                    break\n",
    "                else:\n",
    "                    prev=temp_node\n",
    "                    temp_node=temp_node.next\n",
    "            if not key_collision:\n",
    "                prev.next=Node(key, value)\n",
    "                chain=1\n",
    "        self._length_+=1\n",
    "        self._alpha_=self._length_/self.m\n",
    "        return chain\n",
    "\n",
    "    def getitem(self, key):\n",
    "        key_hash=self.universal_hashing_function(key)\n",
    "        if not self.data[key_hash]:\n",
    "            raise KeyError(\"Key does not exist\")\n",
    "        else:\n",
    "            temp_node=self.data[key_hash]\n",
    "            while(temp_node):\n",
    "                if temp_node.key==key:\n",
    "                    return temp_node.value\n",
    "                else:\n",
    "                    temp_node=temp_node.next\n",
    "            raise KeyError(\"Key does not exist\")\n",
    "\n",
    "    def delete(self, key):\n",
    "        key_hash=self.universal_hashing_function(key)\n",
    "        if not self.data[key_hash]:\n",
    "            raise KeyError(\"Key does not exist\")\n",
    "        else:\n",
    "            temp_node=self.data[key_hash]\n",
    "            prev=None\n",
    "            while(temp_node):\n",
    "                if temp_node.key==key:\n",
    "                    if not prev:\n",
    "                        self.data[key_hash]=temp_node.next\n",
    "                    else:\n",
    "                        prev.next=temp_node.next\n",
    "                    self._length_-=1\n",
    "                    self._alpha_==self._length_/self.m\n",
    "                    return\n",
    "                else:\n",
    "                    prev=temp_node\n",
    "                    temp_node=temp_node.next\n",
    "            raise KeyError(\"Key does not exist\")\n",
    "\n",
    "    def show(self):\n",
    "        for idx in range(len(self.data)):\n",
    "            entry=self.data[idx]\n",
    "            if entry:\n",
    "                temp=entry\n",
    "                while(temp):\n",
    "                    print(\"{{ {} : {} }}\".format(temp.key, temp.value), end=\", \")\n",
    "                    temp=temp.next"
   ]
  },
  {
   "cell_type": "markdown",
   "metadata": {},
   "source": [
    "### Testing code"
   ]
  },
  {
   "cell_type": "code",
   "execution_count": null,
   "metadata": {},
   "outputs": [],
   "source": [
    "dictionary=Dictionary()\n",
    "collisions=0"
   ]
  },
  {
   "cell_type": "code",
   "execution_count": null,
   "metadata": {},
   "outputs": [],
   "source": [
    "item_count=random.randint(0,125)\n",
    "print(\"{} items will be tried\".format(item_count))\n",
    "for _ in range(item_count):\n",
    "    c+=dictionary.insert(key=random.randint(0,1000), value=random.random())\n",
    "print(\"{} collisions\".format(c))"
   ]
  },
  {
   "cell_type": "code",
   "execution_count": null,
   "metadata": {},
   "outputs": [],
   "source": [
    "print(\"Load factor: {}, Length: {}\".format(dictionary._alpha_, dictionary._length_))"
   ]
  },
  {
   "cell_type": "code",
   "execution_count": null,
   "metadata": {},
   "outputs": [],
   "source": [
    "dictionary.show()"
   ]
  },
  {
   "cell_type": "code",
   "execution_count": null,
   "metadata": {},
   "outputs": [],
   "source": [
    "dictionary.delete(665)"
   ]
  }
 ],
 "metadata": {
  "kernelspec": {
   "display_name": "Python 3",
   "language": "python",
   "name": "python3"
  },
  "language_info": {
   "codemirror_mode": {
    "name": "ipython",
    "version": 3
   },
   "file_extension": ".py",
   "mimetype": "text/x-python",
   "name": "python",
   "nbconvert_exporter": "python",
   "pygments_lexer": "ipython3",
   "version": "3.7.6"
  }
 },
 "nbformat": 4,
 "nbformat_minor": 4
}

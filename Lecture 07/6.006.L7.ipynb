{
 "cells": [
  {
   "cell_type": "markdown",
   "metadata": {},
   "source": [
    "### Radix Sort, Counting Sort"
   ]
  },
  {
   "cell_type": "markdown",
   "metadata": {},
   "source": [
    "#### Comparison model\n",
    "\n",
    "Assumptions about the comparison model:\n",
    "1. All input items are black boxes (**A**bstract **D**ata **T**ypes)\n",
    "2. Only operations allowed ae comparisons (<,>,<=,>=,==)\n",
    "3. Time cost: # of comparisons\n"
   ]
  },
  {
   "cell_type": "markdown",
   "metadata": {},
   "source": [
    "#### Linear-time sorting (Integer sorting)\n",
    "Assumptions:\n",
    "1. n keys to be sorted\n",
    "2. all n keys are in range(0,k-1)\n",
    "3. each key fits in a word"
   ]
  },
  {
   "cell_type": "markdown",
   "metadata": {},
   "source": [
    "#### Counting Sort"
   ]
  },
  {
   "cell_type": "code",
   "execution_count": null,
   "metadata": {},
   "outputs": [],
   "source": [
    "def count_sort(arr, k) -> None:\n",
    "    '''\n",
    "    type:\n",
    "    arr: list\n",
    "    k: int\n",
    "    '''\n",
    "    \n",
    "    #Initialize variables and auxiliary arrays\n",
    "    #output contains the sorted numbers\n",
    "    #counts contain the counts of each digit in the k-th place (10s, 100s etc)\n",
    "    n=len(arr)\n",
    "    output=[0 for _ in range(n)]\n",
    "    counts=[0 for _ in range(10)]\n",
    "    \n",
    "    #Find the digit in the k's place for every num\n",
    "    #Increment that counter by 1\n",
    "    for num in arr:\n",
    "        index=num/k\n",
    "        counts[int(index%10)]+=1\n",
    "    for i in range(1, 10):\n",
    "        counts[i]+=counts[i-1]\n",
    "    i=n-1\n",
    "    #Build output array\n",
    "    for i in range(n-1,-1,-1):\n",
    "        index=arr[i]//k\n",
    "        output[counts[index%10]-1]=arr[i]\n",
    "        counts[index%10]-=1\n",
    "    #Put output array back in original array   \n",
    "    for i in range(0,n):\n",
    "        arr[i]=output[i]\n",
    "    "
   ]
  },
  {
   "cell_type": "markdown",
   "metadata": {},
   "source": [
    "#### Radix Sort\n"
   ]
  },
  {
   "cell_type": "code",
   "execution_count": null,
   "metadata": {},
   "outputs": [],
   "source": [
    "def radix_sort(arr: list):\n",
    "    max_el=max(arr)\n",
    "    base=1\n",
    "    while max_el//base>0:\n",
    "        #Call count_sort repeatedly with larger base numbers\n",
    "        count_sort(arr,base)\n",
    "        base*=10\n",
    "        "
   ]
  },
  {
   "cell_type": "code",
   "execution_count": null,
   "metadata": {},
   "outputs": [],
   "source": [
    "import random\n",
    "size, min_range, max_range = 125, 0, 1000 \n",
    "arr = [random.randint(min_range, max_range) for _ in range(size)]\n",
    "print(arr)\n",
    "radix_sort(arr)\n",
    "print(arr)"
   ]
  },
  {
   "cell_type": "code",
   "execution_count": null,
   "metadata": {},
   "outputs": [],
   "source": []
  }
 ],
 "metadata": {
  "kernelspec": {
   "display_name": "Python 3",
   "language": "python",
   "name": "python3"
  },
  "language_info": {
   "codemirror_mode": {
    "name": "ipython",
    "version": 3
   },
   "file_extension": ".py",
   "mimetype": "text/x-python",
   "name": "python",
   "nbconvert_exporter": "python",
   "pygments_lexer": "ipython3",
   "version": "3.7.6"
  }
 },
 "nbformat": 4,
 "nbformat_minor": 4
}

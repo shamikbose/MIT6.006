{
 "cells": [
  {
   "cell_type": "markdown",
   "metadata": {},
   "source": [
    "### AVL Trees (Adel'son-Vel'skii and Landis, 1962)"
   ]
  },
  {
   "cell_type": "markdown",
   "metadata": {},
   "source": [
    "Ideally, we would want our BSTs to be of height **log(n)** where n is the length of the list, but in the worse case where the elements are in sorted order, the height of the BST would be **n** which is not ideal. If we denote the height to be **h**, it can be defined as follows:\n",
    "- ```h = length of longest path from root to leaf going down```"
   ]
  },
  {
   "cell_type": "markdown",
   "metadata": {},
   "source": [
    "A tree is ***balanced*** if h is $\\theta$log (n) where n is the length of the list. Generally, we can define the height of a node as \n",
    "- if node is leaf, ```h(node)=-1```\n",
    "- ```h(node) = max(h(left_child), h(right_child))+1```"
   ]
  },
  {
   "cell_type": "markdown",
   "metadata": {},
   "source": [
    "AVL Trees require the following invariant\n",
    "- For all nodes, |h(left) - h(right)| <=1\n",
    "\n",
    "N<sub>h</sub> = min. no. of nodes in an AVL tree of height h\n",
    "\n",
    "N<sub>h</sub> = 1 + N<sub>h-1</sub> + N<sub>h-2</sub>"
   ]
  },
  {
   "cell_type": "markdown",
   "metadata": {},
   "source": [
    "#### Import classes from Lecture 5\n",
    "\n",
    "We are going to reuse the classes that we created in Lecture 5, namely BSTAugmented(). This section contains code to use the helper notebook as a package. The code in this section has been taken from [this](https://jupyter-notebook.readthedocs.io/en/latest/examples/Notebook/Importing%20Notebooks.html) tutorial"
   ]
  },
  {
   "cell_type": "code",
   "execution_count": 2,
   "metadata": {
    "jupyter": {
     "source_hidden": true
    }
   },
   "outputs": [],
   "source": [
    "import io, os, sys, types\n",
    "from IPython import get_ipython\n",
    "from nbformat import read\n",
    "from IPython.core.interactiveshell import InteractiveShell"
   ]
  },
  {
   "cell_type": "code",
   "execution_count": 9,
   "metadata": {
    "jupyter": {
     "source_hidden": true
    }
   },
   "outputs": [],
   "source": [
    "def find_notebook(fullname, path=None):\n",
    "    \"\"\"find a notebook, given its fully qualified name and an optional path\n",
    "\n",
    "    This turns \"foo.bar\" into \"foo/bar.ipynb\"\n",
    "    and tries turning \"Foo_Bar\" into \"Foo Bar\" if Foo_Bar\n",
    "    does not exist.\n",
    "    \"\"\"\n",
    "    name = fullname.rsplit('.', 1)[-1]\n",
    "    if not path:\n",
    "        path = ['']\n",
    "    for d in path:\n",
    "        nb_path = os.path.join(d, name + \".ipynb\")\n",
    "        if os.path.isfile(nb_path):\n",
    "            return nb_path\n",
    "        # let import Notebook_Name find \"Notebook Name.ipynb\"\n",
    "        nb_path = nb_path.replace(\"_\", \" \")\n",
    "        if os.path.isfile(nb_path):\n",
    "            return nb_path"
   ]
  },
  {
   "cell_type": "code",
   "execution_count": 10,
   "metadata": {
    "jupyter": {
     "source_hidden": true
    }
   },
   "outputs": [],
   "source": [
    "class NotebookLoader(object):\n",
    "    \"\"\"Module Loader for Jupyter Notebooks\"\"\"\n",
    "    def __init__(self, path=None):\n",
    "        self.shell = InteractiveShell.instance()\n",
    "        self.path = path\n",
    "\n",
    "    def load_module(self, fullname):\n",
    "        \"\"\"import a notebook as a module\"\"\"\n",
    "        path = find_notebook(fullname, self.path)\n",
    "\n",
    "        print (\"importing Jupyter notebook from %s\" % path)\n",
    "\n",
    "        # load the notebook object\n",
    "        with io.open(path, 'r', encoding='utf-8') as f:\n",
    "            nb = read(f, 4)\n",
    "\n",
    "\n",
    "        # create the module and add it to sys.modules\n",
    "        # if name in sys.modules:\n",
    "        #    return sys.modules[name]\n",
    "        mod = types.ModuleType(fullname)\n",
    "        mod.__file__ = path\n",
    "        mod.__loader__ = self\n",
    "        mod.__dict__['get_ipython'] = get_ipython\n",
    "        sys.modules[fullname] = mod\n",
    "\n",
    "        # extra work to ensure that magics that would affect the user_ns\n",
    "        # actually affect the notebook module's ns\n",
    "        save_user_ns = self.shell.user_ns\n",
    "        self.shell.user_ns = mod.__dict__\n",
    "\n",
    "        try:\n",
    "          for cell in nb.cells:\n",
    "            if cell.cell_type == 'code':\n",
    "                # transform the input to executable Python\n",
    "                code = self.shell.input_transformer_manager.transform_cell(cell.source)\n",
    "                # run the code in themodule\n",
    "                exec(code, mod.__dict__)\n",
    "        finally:\n",
    "            self.shell.user_ns = save_user_ns\n",
    "        return mod"
   ]
  },
  {
   "cell_type": "code",
   "execution_count": 11,
   "metadata": {
    "jupyter": {
     "source_hidden": true
    }
   },
   "outputs": [],
   "source": [
    "class NotebookFinder(object):\n",
    "    \"\"\"Module finder that locates Jupyter Notebooks\"\"\"\n",
    "    def __init__(self):\n",
    "        self.loaders = {}\n",
    "\n",
    "    def find_module(self, fullname, path=None):\n",
    "        nb_path = find_notebook(fullname, path)\n",
    "        if not nb_path:\n",
    "            return\n",
    "\n",
    "        key = path\n",
    "        if path:\n",
    "            # lists aren't hashable\n",
    "            key = os.path.sep.join(path)\n",
    "\n",
    "        if key not in self.loaders:\n",
    "            self.loaders[key] = NotebookLoader(path)\n",
    "        return self.loaders[key]"
   ]
  },
  {
   "cell_type": "code",
   "execution_count": 12,
   "metadata": {
    "jupyter": {
     "source_hidden": true
    }
   },
   "outputs": [],
   "source": [
    "sys.meta_path.append(NotebookFinder())"
   ]
  },
  {
   "cell_type": "code",
   "execution_count": 16,
   "metadata": {},
   "outputs": [],
   "source": [
    "from helper import BST"
   ]
  },
  {
   "cell_type": "markdown",
   "metadata": {},
   "source": [
    " #### Balancing AVL trees\n",
    " Given a node x which is the lowest node violating the AVL invariant:\n",
    " - if x.right is higher\n",
    "   1. if x's right child is right-heavy or balanced\n",
    "       - right-rotate x\n",
    "   2. if x's right child is left-heavy\n",
    "       - right-rotate x.right\n",
    "       - left-rotate x\n",
    "   "
   ]
  },
  {
   "cell_type": "code",
   "execution_count": 17,
   "metadata": {},
   "outputs": [],
   "source": [
    "def height(node):\n",
    "    if node is None:\n",
    "        return -1\n",
    "    else:\n",
    "        return node.height\n",
    "    "
   ]
  },
  {
   "cell_type": "code",
   "execution_count": 18,
   "metadata": {},
   "outputs": [],
   "source": [
    "def update_height(node):\n",
    "    node.height=max(height(node.left), height(node.right))+1"
   ]
  },
  {
   "cell_type": "code",
   "execution_count": 34,
   "metadata": {},
   "outputs": [],
   "source": [
    "class AVL(BST):\n",
    "    '''\n",
    "    Class implementing AVL BST\n",
    "    Supports insert, find and delete_min in O(lg n)\n",
    "    Call with non-zero value to see operations list\n",
    "    '''\n",
    "    def __init__(self, verbose=0):\n",
    "        self.root=None\n",
    "        self.verbose=verbose\n",
    "        \n",
    "    def left_rotate(self, x):\n",
    "        #initial steps. Set y to x.right. Set parents and check for root node\n",
    "        verbose=self.verbose\n",
    "        y=x.right\n",
    "        y.parent=x.parent\n",
    "        if not y.parent:\n",
    "            self.root=y\n",
    "        else:\n",
    "            if y.parent.left is x:\n",
    "                y.parent.left=y\n",
    "            elif y.parent.right is x:\n",
    "                y.parent.right=y\n",
    "        #Do the rotation\n",
    "        x.right=y.left\n",
    "        if x.right:\n",
    "            x.right.parent=x\n",
    "        y.left=x\n",
    "        x.parent=y\n",
    "        #update heights of the nodes\n",
    "        update_height(x)\n",
    "        update_height(y)\n",
    "        \n",
    "    def right_rotate(self, x):\n",
    "        #initial steps. Set y to x.left. Set parents and check for root node\n",
    "        verbose=self.verbose\n",
    "        y=x.left\n",
    "        y.parent=x.parent\n",
    "        if not y.parent:\n",
    "            self.root=y\n",
    "        else:\n",
    "            if y.parent.left is x:\n",
    "                y.parent.left=y\n",
    "            elif y.parent.right is x:\n",
    "                y.parent.right=y\n",
    "        #Do the rotation\n",
    "        x.left=y.right\n",
    "        if x.left:\n",
    "            x.left.parent=x\n",
    "        y.right=x\n",
    "        x.parent=y\n",
    "        #update heights of the nodes\n",
    "        update_height(x)\n",
    "        update_height(y)\n",
    "        \n",
    "    def insert(self, t):\n",
    "        verbose=self.verbose\n",
    "        node = BST.insert(self, t)\n",
    "        if verbose:\n",
    "            print(f\"Inserted {t}\")\n",
    "            print(\"Balancing...\")\n",
    "        self.balance(node)\n",
    "        if verbose:\n",
    "            print(\"Balanced\")\n",
    "            \n",
    "    def balance(self, node):\n",
    "        verbose=self.verbose\n",
    "        while node:\n",
    "            update_height(node)\n",
    "            if height(node.left)>= 2 + height(node.right):\n",
    "                if height(node.left.left)>=height(node.left.right):\n",
    "                    self.right_rotate(node)\n",
    "                    if verbose:\n",
    "                        print(f\"Right rotated {node.key}\")\n",
    "                else:\n",
    "                    self.left_rotate(node.left)\n",
    "                    if verbose:\n",
    "                        print(f\"Left rotated {node.left.key}\")\n",
    "                    self.right_rotate(node)\n",
    "                    if verbose:\n",
    "                        print(f\"Right rotated {node.key}\")\n",
    "            elif height(node.right)>= 2 + height(node.left):\n",
    "                if height(node.right.right)>height(node.right.left):\n",
    "                    self.left_rotate(node)\n",
    "                    if verbose:\n",
    "                        print(f\"Left rotated {node.key}\")\n",
    "                else:\n",
    "                    self.right_rotate(node.right)\n",
    "                    if verbose:\n",
    "                        print(f\"Right rotated {node.right.key}\")\n",
    "                    self.left_rotate(node)\n",
    "                    if verbose:\n",
    "                        print(f\"Left rotated {node.key}\")\n",
    "            node=node.parent\n",
    "            \n",
    "    def delete_min(self):\n",
    "        verbose=self.verbose\n",
    "        node,parent=BST.delete_min(self)\n",
    "        if parent:\n",
    "            parent_val=parent.key\n",
    "        else:\n",
    "            parent_val=None\n",
    "        if verbose:\n",
    "            print(f\"Deleted {node.key}, child of {parent_val}\\nBalancing...\")\n",
    "        self.balance(parent)\n",
    "        if verbose:\n",
    "            print(\"Balanced\")"
   ]
  },
  {
   "cell_type": "code",
   "execution_count": 37,
   "metadata": {},
   "outputs": [
    {
     "name": "stdout",
     "output_type": "stream",
     "text": [
      "[-27, -46, -50, 53, -23, 51, 82, 68, 58, 21, -20, 70, -72, -48, 69, -86, -7, -49, 39, -37]\n",
      "New tree with root value -27\n",
      "Sorted list: [-86, -72, -50, -49, -48, -46, -37, -27, -23, -20, -7, 21, 39, 51, 53, 58, 68, 69, 70, 82]\n"
     ]
    }
   ],
   "source": [
    "import random\n",
    "min_range, max_range=-100,100\n",
    "arr_size=20\n",
    "A=[random.randint(min_range, max_range) for _ in range(arr_size)]\n",
    "print(A)\n",
    "tree_avl=AVL(0)\n",
    "for item in A:\n",
    "    tree_avl.insert(item)\n",
    "    \n",
    "\n",
    "res=[]\n",
    "tree_root=tree_avl.root\n",
    "helper.traverse(tree_root, res)\n",
    "print(f\"Sorted list: {res}\")\n",
    "tree_avl.delete_min()"
   ]
  },
  {
   "cell_type": "code",
   "execution_count": null,
   "metadata": {},
   "outputs": [],
   "source": []
  }
 ],
 "metadata": {
  "kernelspec": {
   "display_name": "Python 3",
   "language": "python",
   "name": "python3"
  },
  "language_info": {
   "codemirror_mode": {
    "name": "ipython",
    "version": 3
   },
   "file_extension": ".py",
   "mimetype": "text/x-python",
   "name": "python",
   "nbconvert_exporter": "python",
   "pygments_lexer": "ipython3",
   "version": "3.7.6"
  }
 },
 "nbformat": 4,
 "nbformat_minor": 4
}

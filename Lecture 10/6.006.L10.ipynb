{
 "cells": [
  {
   "cell_type": "markdown",
   "metadata": {},
   "source": [
    "### Open Addressing"
   ]
  },
  {
   "cell_type": "markdown",
   "metadata": {},
   "source": [
    "- Allows hash tables through arrays without chaining\n",
    "- **m $\\geq$ n** where **m** is the size of the table and **n** is the number of elements\n",
    "- Hash function **h()** which produces an ***order of slots*** to probe for a key\n",
    "    -  h: U x {0,1..,m-1} $\\rightarrow$ {0,1,..m-1} (U: Universe of keys)\n",
    "    - Produces a permutation of all possible keys"
   ]
  },
  {
   "cell_type": "code",
   "execution_count": 1,
   "metadata": {},
   "outputs": [],
   "source": [
    "class Entry:\n",
    "    def __init__(self):\n",
    "        self.key=None\n",
    "        self.value=None\n",
    "        self.deleted=False"
   ]
  },
  {
   "cell_type": "code",
   "execution_count": 58,
   "metadata": {},
   "outputs": [],
   "source": [
    "class Dictionary:\n",
    "    \n",
    "    def __init__(self, m, hash_fn):\n",
    "        import math\n",
    "        '''\n",
    "        Initialize the list and hash_function to use\n",
    "        Ensure that the hash function takes three variables\n",
    "        k, i and m\n",
    "        '''\n",
    "        assert m>0 and math.log(m,2).is_integer(), \"Invalid value of m. Must be a +ve power of 2\"\n",
    "        self.m=m\n",
    "        self.hash=hash_fn\n",
    "        self.dict=[Entry() for _ in range(self.m)]\n",
    "        self.keys=set()\n",
    "    \n",
    "    def insert(self, key, value):\n",
    "        for i in range(self.m):\n",
    "            slot=self.hash(key, i, self.m)\n",
    "            #if matching key, overwrite\n",
    "            if self.dict[slot].key==key:\n",
    "                self.dict[slot].value=value\n",
    "                self.dict[slot].deleted=False\n",
    "                return\n",
    "            #if empty slot, insert\n",
    "            elif not self.dict[slot].key:\n",
    "                self.dict[slot].key=key\n",
    "                self.dict[slot].value=value\n",
    "                self.dict[slot].deleted=False\n",
    "                self.keys.add(key)\n",
    "                return\n",
    "        #if reached here, dict is full\n",
    "        return -1\n",
    "    \n",
    "    def search(self, key):\n",
    "        #check in set\n",
    "        if key not in self.keys:\n",
    "            return -1\n",
    "        for i in range(self.m):\n",
    "            slot=self.hash(key, i, self.m)\n",
    "            #if matching key, return value\n",
    "            if self.dict[slot].key==key:\n",
    "                return self.dict[slot].value\n",
    "            #if deleted flag is True, continue looking\n",
    "            elif self.dict[slot].deleted==True:\n",
    "                continue\n",
    "            #if deleted flag is False, return fail\n",
    "            elif self.dict[slot].deleted==False:\n",
    "                return -1\n",
    "    \n",
    "    def delete(self, key):\n",
    "        #check in set\n",
    "        if key not in self.keys:\n",
    "            return -1\n",
    "        for i in range(self.m):\n",
    "            slot=self.hash(key, i, self.m)\n",
    "            #if key matches, set key and value to None\n",
    "            #set deleted to rue\n",
    "            if self.dict[slot].key==key:\n",
    "                self.dict[slot].key=None\n",
    "                self.dict[slot].value=None\n",
    "                self.dict[slot].deleted=True\n",
    "                self.keys.remove(key)\n",
    "                return 1\n",
    "        return -1\n",
    "    \n",
    "    def show(self):\n",
    "        for key in self.keys:\n",
    "            val=self.search(key)\n",
    "            print(\"{{{}:{}}}\".format(key, val))\n",
    "        \n",
    "            \n",
    "                "
   ]
  },
  {
   "cell_type": "markdown",
   "metadata": {},
   "source": [
    "#### Linear Probing\n",
    "***h(k,i) = (h'(k)+i) mod m*** where *h'(k)* is an ordinary hash function"
   ]
  },
  {
   "cell_type": "code",
   "execution_count": 59,
   "metadata": {},
   "outputs": [],
   "source": [
    "def linear_probing_hash(key, iteration, m):\n",
    "    '''\n",
    "    This function implements the hashing function required by the \n",
    "    '''\n",
    "    #If we want the hash function to generate numbers in a range (let this range be x),\n",
    "    #then we can simply use the division method or Knuth's variant on division\n",
    "    x=1e9\n",
    "    return int((key*(key+3))%x + iteration)%m"
   ]
  },
  {
   "cell_type": "markdown",
   "metadata": {},
   "source": [
    "#### Double Hashing\n",
    "\n",
    "***h(k,i)=(h<sub>1</sub>(k) + i.h<sub>2</sub>(k))mod m*** where *h<sub>1</sub>(k)* and *h<sub>2</sub>(k)* are ordinary hash functions\n",
    "- Guarantees a permutation if h<sub>2</sub>(k) is relatively prime to *m* for all *k*\n",
    "- eg. Make *m=2<sup>r</sup>* and *h<sub>2</sub>(k)* always odd"
   ]
  },
  {
   "cell_type": "code",
   "execution_count": 60,
   "metadata": {},
   "outputs": [],
   "source": [
    "def double_hash(key, iteration, m):\n",
    "    '''\n",
    "    This function implements the double hash \n",
    "    '''\n",
    "    x_1, x_2=1e9, 1e6+5\n",
    "    h_1=(key*(key+3))%x_1\n",
    "    h_2=iteration * (key*(key+3))%x_2\n",
    "    #Make the relatively prime condition hold as m is forced as a power of 2\n",
    "    if h_2%2==0:\n",
    "        h_2+=1\n",
    "    return int((h_1+h_2)%m)"
   ]
  }
 ],
 "metadata": {
  "kernelspec": {
   "display_name": "Python 3",
   "language": "python",
   "name": "python3"
  },
  "language_info": {
   "codemirror_mode": {
    "name": "ipython",
    "version": 3
   },
   "file_extension": ".py",
   "mimetype": "text/x-python",
   "name": "python",
   "nbconvert_exporter": "python",
   "pygments_lexer": "ipython3",
   "version": "3.7.6"
  }
 },
 "nbformat": 4,
 "nbformat_minor": 4
}

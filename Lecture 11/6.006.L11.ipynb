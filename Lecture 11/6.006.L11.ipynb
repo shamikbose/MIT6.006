{
 "cells": [
  {
   "cell_type": "markdown",
   "metadata": {},
   "source": [
    "### Integer Arithemtic"
   ]
  },
  {
   "cell_type": "markdown",
   "metadata": {},
   "source": [
    "#### Catalan numbers\n",
    "- $P$: Set of balanced parentheses strings\n",
    "- $\\lambda$ $\\epsilon$ $P$ ($\\lambda$ is the empty string)\n",
    "- If $\\alpha$,$\\beta$ $\\epsilon$ $P$, then ($\\alpha$)$\\beta$ $\\epsilon$ $P$\n",
    "- $C_n$ : number of balanced parentheses strings with exactly $n$ pairs of parentheses\n",
    "- $C_0 = 1$ (empty string)\n",
    "- $C_{n+1} = \\sum C_k.C_{n-k}$"
   ]
  },
  {
   "cell_type": "markdown",
   "metadata": {},
   "source": [
    "### Newton's method\n",
    "- $y=f(x)$\n",
    "- Find root of $f(x)$=0 thorugh successive approximation\n",
    "- To find the tangent at $x_{i+1}$, it ccan be calculated as follows:\n",
    "\n",
    "  $x_{i+1}=x_i - \\frac{f(x_i)}{f^{'}(x_i)}$"
   ]
  },
  {
   "cell_type": "code",
   "execution_count": null,
   "metadata": {},
   "outputs": [],
   "source": [
    "def newtons_square_root(root: int, num: int, verbose=0) -> float:\n",
    "    '''\n",
    "    root: The root to calculate (Must be greater than 1)\n",
    "    num : Number to calculate root of\n",
    "    higher value of num_iter means more precision\n",
    "    '''\n",
    "    assert root>1, \"Root has to be greater than 1\"\n",
    "    delta=1e-16\n",
    "    res=1.0\n",
    "    i=0\n",
    "    while(True):\n",
    "        prev_res=res\n",
    "        res=res-((res**root)-num)/(root*(res**(root-1)))\n",
    "        if verbose:\n",
    "            print(\"Iter {}: {}\".format(i, res))\n",
    "        i+=1\n",
    "        if abs(res-prev_res)<delta:\n",
    "            break\n",
    "    return res"
   ]
  },
  {
   "cell_type": "code",
   "execution_count": null,
   "metadata": {},
   "outputs": [],
   "source": [
    "print(newtons_square_root(2, 7))"
   ]
  },
  {
   "cell_type": "markdown",
   "metadata": {},
   "source": [
    "### Karatsuba Multiplication"
   ]
  },
  {
   "cell_type": "markdown",
   "metadata": {},
   "source": [
    " By breaking down large numbers into 2 parts, we can reduce the complexity from $O(n^2)$ to $O(n^{log_23})$"
   ]
  }
 ],
 "metadata": {
  "kernelspec": {
   "display_name": "Python 3",
   "language": "python",
   "name": "python3"
  },
  "language_info": {
   "codemirror_mode": {
    "name": "ipython",
    "version": 3
   },
   "file_extension": ".py",
   "mimetype": "text/x-python",
   "name": "python",
   "nbconvert_exporter": "python",
   "pygments_lexer": "ipython3",
   "version": "3.7.6"
  }
 },
 "nbformat": 4,
 "nbformat_minor": 4
}
